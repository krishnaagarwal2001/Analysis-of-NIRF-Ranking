{
 "cells": [
  {
   "cell_type": "markdown",
   "id": "61b1b2de",
   "metadata": {},
   "source": [
    "### URL To Image"
   ]
  },
  {
   "cell_type": "code",
   "execution_count": 3,
   "id": "85269f87",
   "metadata": {},
   "outputs": [],
   "source": [
    "from urllib.request import urlopen\n",
    "def url_to_image(url, readFlag=cv2.IMREAD_COLOR):\n",
    "    resp = urlopen(url)\n",
    "    image = np.asarray(bytearray(resp.read()), dtype=\"uint8\")\n",
    "    image = cv2.imdecode(image, readFlag)\n",
    "    return image"
   ]
  },
  {
   "cell_type": "markdown",
   "id": "31a9fb4e",
   "metadata": {},
   "source": [
    "### Data Extraction from Image"
   ]
  },
  {
   "cell_type": "code",
   "execution_count": 8,
   "id": "805bb903",
   "metadata": {},
   "outputs": [
    {
     "name": "stdout",
     "output_type": "stream",
     "text": [
      "Indian Institute of Technology Madras (IR-E-U-0456)\n",
      "2 oS\n",
      "i\n",
      "ss FSR FOE FRU PU QP IPR FPPP GPH GUE MS GPHD RD WD Escs PCS PR\n",
      "TLR RP Go or PR\n",
      "| ss FSR FQE FRU PU QP IPR FPPP GPH GUE MS GPHD RD WD ESCS PCS PR\n",
      "| Score 18.50 30.00 17.88 29.09 34.43 37.00 15.00 10.00 28.50 15.00 21.10 17.32 21.43 13.57 7.43 20.00 100.00\n",
      "| Total 20.00 30.00 20.00 30.00 35.00 40.00 15.00 10.00 40.00 15.00 25.00 20.00 30.00 30.00 20.00 20.00 100.00\n",
      "\n",
      "[ 18.5   30.    17.88  29.09  34.43  37.    15.    10.    28.5   15.\n",
      "  21.1   17.32  21.43  13.57   7.43  20.   100.  ]\n"
     ]
    }
   ],
   "source": [
    "from PIL import Image\n",
    "from pytesseract import pytesseract\n",
    "import numpy as np\n",
    "import cv2\n",
    "\n",
    "#Define path to tessaract.exe\n",
    "path_to_tesseract = r'C:\\Program Files\\Tesseract-OCR\\tesseract.exe'\n",
    "pytesseract.tesseract_cmd = path_to_tesseract\n",
    "\n",
    "#Define path to image\n",
    "path_to_image = 'IR-M-S-8890.jpg'\n",
    "path_to_image1 = 'IR-E-U-0456.jpg'\n",
    "path_to_image2 = 'IR-E-U-0037.jpg'\n",
    "def image_to_data(path_to_image):\n",
    "#     image = cv2.imread(path_to_image)\n",
    "    image=url_to_image(path_to_image)\n",
    "    gray = cv2.cvtColor(image, cv2.COLOR_BGR2GRAY)\n",
    "    thresh = cv2.threshold(gray, 0, 255, cv2.THRESH_BINARY_INV + cv2.THRESH_OTSU)[1]\n",
    "    invert = 255 - thresh\n",
    "    text = pytesseract.image_to_string(invert, lang='eng', config='--psm 6')\n",
    "    print(text)\n",
    "    arr=[]\n",
    "    for line in text.splitlines():\n",
    "        arr.append(line)\n",
    "    arr=np.array(arr[-5:])\n",
    "    x = arr[3].split(\" \")\n",
    "    \n",
    "    if(len(x) != 19):\n",
    "        x = arr[2].split(\" \")\n",
    "#     print(x)\n",
    "    a=np.array(x)\n",
    "    a=a[2:]\n",
    "    temp=[]\n",
    "    for i in a:\n",
    "        f=i.replace(\",\",\"\")\n",
    "        temp.append(f)\n",
    "    a=np.array(temp)\n",
    "    a = a.astype(float)\n",
    "#     temp=[]\n",
    "    final=a\n",
    "#     for i in final:\n",
    "#         j=float(i)\n",
    "#         temp.append(j)\n",
    "#     final=np.array(temp)\n",
    "    print(final)\n",
    "    return final\n",
    "\n",
    "# a=image_to_data(path_to_image)\n",
    "b=image_to_data('https://www.nirfindia.org/nirfpdfcdn/2021/graph/Engineering/IR-E-U-0456.jpg')\n",
    "# c=image_to_data(path_to_image2)"
   ]
  },
  {
   "cell_type": "markdown",
   "id": "b0a179b1",
   "metadata": {},
   "source": [
    "### Web Scrapping"
   ]
  },
  {
   "cell_type": "code",
   "execution_count": 10,
   "id": "63cce58f",
   "metadata": {},
   "outputs": [],
   "source": [
    "from autoscraper import AutoScraper\n",
    "url=\"https://www.nirfindia.org/2021/EngineeringRanking.html\"\n",
    "wanted_list=[\"IR-E-U-0456\",\"Indian Institute of Technology Madras\",\"https://www.nirfindia.org/nirfpdfcdn/2021/graph/Engineering/IR-E-U-0456.jpg\",\"95.47\",\"96.43\",\"81.92\",\"62.44\",\"100.00\",\"https://www.nirfindia.org/nirfpdfcdn/2021/pdf/Engineering/IR-E-U-0456.pdf\",\"90.19\"]\n",
    "scraper=AutoScraper()\n",
    "result=scraper.build(url,wanted_list)\n",
    "rule=scraper.get_result_similar(url,grouped=True)\n",
    "keys=list(rule.keys())\n",
    "scraper.set_rule_aliases({keys[0]:'Institute ID',keys[1]:'Name',keys[2]:'image',keys[3]:'TLR',keys[4]:'RPC',keys[5]:'GO',keys[6]:'OI',keys[7]:'PERCEPTION',keys[8]:'pdf',keys[9]:'Score'})\n",
    "scraper.keep_rules([keys[0],keys[1],keys[2],keys[3],keys[4],keys[5],keys[6],keys[7],keys[8],keys[9]])\n",
    "scraper.save('nirf')"
   ]
  },
  {
   "cell_type": "code",
   "execution_count": 11,
   "id": "eb85e22a",
   "metadata": {},
   "outputs": [
    {
     "data": {
      "text/plain": [
       "['Indian Institute of Technology Madras',\n",
       " 'Indian Institute of Technology Delhi',\n",
       " 'Indian Institute of Technology Bombay',\n",
       " 'Indian Institute of Technology Kanpur',\n",
       " 'Indian Institute of Technology Kharagpur',\n",
       " 'Indian Institute of Technology Roorkee',\n",
       " 'Indian Institute of Technology Guwahati',\n",
       " 'Indian Institute of Technology Hyderabad',\n",
       " 'National Institute of Technology Tiruchirappalli',\n",
       " 'National Institute of Technology Karnataka',\n",
       " 'Indian Institute of Technology (Indian School of Mines)',\n",
       " 'Vellore Institute of Technology',\n",
       " 'Indian Institute of Technology Indore',\n",
       " 'Indian Institute of Technology (Banaras Hindu University) Varanasi',\n",
       " 'Institute of Chemical Technology',\n",
       " 'Amrita Vishwa Vidyapeetham',\n",
       " 'Jadavpur University',\n",
       " 'Anna University',\n",
       " 'Indian Institute of Technology Ropar',\n",
       " 'National Institute of Technology Rourkela',\n",
       " 'Indian Institute of Technology Patna',\n",
       " 'Indian Institute of Technology Gandhinagar',\n",
       " 'National Institute of Technology Warangal',\n",
       " 'Thapar Institute of Engineering and Technology',\n",
       " 'National Institute of Technology Calicut',\n",
       " 'Birla Institute of Technology & Science -Pilani',\n",
       " 'Indian Institute of Engineering Science and Technology',\n",
       " 'Indian Institute of Technology Bhubaneswar',\n",
       " 'National Institute of Technology Durgapur',\n",
       " 'Visvesvaraya National Institute of Technology',\n",
       " 'Amity University',\n",
       " 'Siksha `O` Anusandhan',\n",
       " 'Jamia Millia Islamia',\n",
       " 'S.R.M. Institute of Science and Technology',\n",
       " 'Aligarh Muslim University',\n",
       " 'Delhi Technological University',\n",
       " 'Malaviya National Institute of Technology',\n",
       " 'Shanmugha Arts Science Technology & Research Academy',\n",
       " 'Kalinga Institute of Industrial Technology',\n",
       " 'Indian Institute of Space Science and Technology',\n",
       " 'Indian Institute of Technology Mandi',\n",
       " 'Motilal Nehru National Institute of Technology',\n",
       " 'Indian Institute of Technology Jodhpur',\n",
       " 'National Institute of Technology Kurukshetra',\n",
       " 'Sri Sivasubramaniya Nadar College of Engineering',\n",
       " 'Birla Institute of Technology',\n",
       " 'Sardar Vallabhbhai National Institute of Technology',\n",
       " 'National Institute of Technology Silchar',\n",
       " 'Dr. B. R. Ambedkar National Institute of Technology',\n",
       " 'Koneru Lakshmaiah Education Foundation University (K L College of Engineering)',\n",
       " 'Manipal Institute of Technology',\n",
       " 'College of Engineering, Pune',\n",
       " 'PSG College of Technology',\n",
       " 'International Institute of Information Technology Hyderabad',\n",
       " 'Sathyabama Institute of Science and Technology',\n",
       " 'Kalasalingam Academy of Research and Education',\n",
       " 'Visvesvaraya Technological University',\n",
       " 'Defence Institute of Advanced Technology',\n",
       " 'National Institute of Technology Meghalaya',\n",
       " 'Maulana Azad National Institute of Technology',\n",
       " 'Chandigarh University',\n",
       " 'Jawaharlal Nehru Technological University',\n",
       " 'Indraprastha Institute of Information Technology, Delhi',\n",
       " 'National Institute of Technology Raipur',\n",
       " 'M. S. Ramaiah Institute of Technology',\n",
       " 'Lovely Professional University',\n",
       " 'Banasthali Vidyapith',\n",
       " 'Pandit Deendayal Petroleum University',\n",
       " 'National Institute of Technology Srinagar',\n",
       " 'Punjab Engineering College (Deemed to be University), Chandigarh',\n",
       " 'Thiagarajar College of Engineering',\n",
       " 'National Institute of Technology Patna',\n",
       " 'Indian Institute of Information Technology Guwahati',\n",
       " 'College of Engineering (A)',\n",
       " 'Graphic Era University',\n",
       " 'International Institute of Information Technology Bangalore',\n",
       " 'R.V. College of Engineering',\n",
       " 'Sri Krishna College of Engineering and Technology',\n",
       " 'Shri Mata Vaishno Devi University',\n",
       " 'Pandit Dwarka Prasad Mishra Indian Institute of Information Technology, Design and Manufacturing (IIITDM) Jabalpur',\n",
       " 'Indian Institute of Food Processing Technology (IIFPT)',\n",
       " 'Veermata Jijabai Technological Institute,  (VJTI, Mumbai)',\n",
       " 'PES University',\n",
       " 'Manipal University Jaipur',\n",
       " 'National Institute of Technology Goa',\n",
       " 'National Institute of Technology, Jamshedpur',\n",
       " 'Indian Institute of Information Technology Allahabad',\n",
       " 'Netaji Subhas University of Technology (NSUT)',\n",
       " 'Panjab University',\n",
       " 'Kumaraguru College of Technology',\n",
       " 'University of Petroleum and Energy Studies',\n",
       " 'National Institute of Technology Agartala',\n",
       " 'Vel Tech Rangarajan Dr. Sagunthala R & D Institute of Science and Technology',\n",
       " 'Jaypee Institute of Information Technology',\n",
       " 'College of Engineering Trivandrum',\n",
       " 'Bharati Vidyapeeth Deemed University College of Engineering',\n",
       " 'The Northcap University',\n",
       " 'B.M.S. College of Engineering',\n",
       " 'National Institute of Technology Hamirpur',\n",
       " 'C.V. Raman Global University, Odisha',\n",
       " 'Siddaganga Institute of Technology',\n",
       " 'Coimbatore Institute of Technology',\n",
       " 'Shoolini University of Biotechnology and Management Sciences',\n",
       " 'Tezpur University',\n",
       " 'Karunya Institute of Technology and Sciences',\n",
       " 'Atal Bihari Vajpayee Indian Institute of Information Technology and Management',\n",
       " 'Dhirubhai Ambani Institute of Information and Communication Technology',\n",
       " 'Guru Gobind Singh Indraprastha University',\n",
       " 'Sri Sairam Engineering College',\n",
       " 'Rajalakshmi Engineering College',\n",
       " \"Vignan's Foundation for Science, Technology and Research\",\n",
       " 'B. S. Abdur Rahman Crescent Institute of Science and Technology',\n",
       " 'Chitkara University',\n",
       " 'National Institute of Technology Manipur',\n",
       " 'National Institute of Foundry and Forge Technology (NIFFT)',\n",
       " 'Veer Surendra Sai University of Technology',\n",
       " 'Maharaja Sayajirao University of Baroda',\n",
       " 'Manav Rachna International Institute of Research & Studies',\n",
       " 'Shri Ramdeobaba College of Engineering and Management',\n",
       " 'Punjab Technical University',\n",
       " 'Saveetha Institute of Medical and Technical Sciences',\n",
       " 'Vishwakarma Institute of Technology',\n",
       " 'University College of Engingeering',\n",
       " 'Mepco Schlenk Engineering College',\n",
       " 'Vels Institute of Science, Technology & Advanced Studies (VISTAS)',\n",
       " 'Dayalbagh Educational Institute',\n",
       " 'YMCA University of Science & Tech (Formerely YMCA Institute of Engineering)',\n",
       " 'Government College of Technology',\n",
       " 'Jaypee University of Information Technology',\n",
       " 'G. H. Raisoni College of Engineering',\n",
       " 'PSG Institute of Technology and Applied Research',\n",
       " 'University College of Engineering',\n",
       " 'Chaitanya Bharathi Institute of Technology',\n",
       " 'SR University',\n",
       " 'Vallurupalli Nageswara Rao Vignana Jyothi Institute of Engineering and Technology',\n",
       " 'The Rashtrasant Tukadoji Maharaj Nagpur University',\n",
       " 'Sri Krishna College of Technology',\n",
       " 'NMAM Institute of Technology',\n",
       " 'P E S College of Engineering',\n",
       " 'Army Institute of Technology',\n",
       " 'New Horizon College of Engineering',\n",
       " 'Vardhaman College of Engineering',\n",
       " 'Bharatiya Vidya Bhavan`s Sardar Patel Institute of Technology',\n",
       " 'Pondicherry Engineering College',\n",
       " 'National Institute of Technology Puducherry',\n",
       " 'Anurag University',\n",
       " 'Chandigarh Engineering College',\n",
       " 'National Institute of Food Technology, Entrepreneurship & Management',\n",
       " 'Yeshwantrao Chavan College of Engineering',\n",
       " 'Dr. Vishwanath Karad MIT World Peace University',\n",
       " 'SVKM`s Narsee Monjee Institute of Management Studies',\n",
       " 'BMS Institute of Technology & Management',\n",
       " 'Nirma University',\n",
       " 'Amity University, Gwalior',\n",
       " 'CVR College Of Engineering',\n",
       " 'Government Engineering College, Thrissur',\n",
       " 'Jain University, Bangalore',\n",
       " 'Maulana Abul Kalam Azad University of Technology',\n",
       " 'Institute of Aeronautical Engineering',\n",
       " 'National Institute of Technology Arunachal Pradesh',\n",
       " 'Indira Gandhi Delhi Technical University for Women',\n",
       " 'Sant Longowal Institute of Engineering & Technology',\n",
       " 'Silicon Institute of Technology (SIT), Bhubaneswar',\n",
       " 'Kongu Engineering College',\n",
       " 'Goka Raju Ranga Raju Institute of Engineering & Technology',\n",
       " 'Annamalai University',\n",
       " 'Rajiv Gandhi Institute of Petroleum Technology',\n",
       " 'Nitte Meenakshi Institute of Technology',\n",
       " 'Institute of Engineering & Management',\n",
       " 'R.M.K. Engineering College',\n",
       " 'Noida Institute of Engineering & Technology',\n",
       " 'Hindustan Institute of Technology and Science (HITS)',\n",
       " 'Dr. D. Y. Patil Institute of Technology',\n",
       " 'Guru Nanak Dev University',\n",
       " 'Sri Ramakrishna Engineering College',\n",
       " 'KIET Group of Institutions',\n",
       " 'Galgotias University',\n",
       " 'Velagapudi Ramakrishna Siddhartha Engineering College',\n",
       " 'Sharda University',\n",
       " 'KLE Technological University',\n",
       " 'Shri G. S. Institute of Technology & Science',\n",
       " 'North Eastern Regional Institute of Science & Technology',\n",
       " 'St. Josephs College of Engineering',\n",
       " 'Lakshmi Narain College of Technology',\n",
       " 'Centurion  University  of Technology and Management',\n",
       " 'Rabindranath Tagore University',\n",
       " 'National Institute of Technology Uttarakhand',\n",
       " 'JSS Science and Technology University',\n",
       " 'Easwari Engineering College',\n",
       " 'International Institute of Information Technology Bhubaneswar',\n",
       " 'National Engineering College',\n",
       " 'Sona College of Technology',\n",
       " 'C M R Institute of Technology',\n",
       " 'G.L.Bajaj Institute of Technology and Management',\n",
       " 'DIT University',\n",
       " 'The National Institute of Engineering',\n",
       " 'K. J. Somaiya College of Engineering',\n",
       " 'Kakatiya Institute of Technology & Science',\n",
       " 'Walchand College of Engineering',\n",
       " 'Sri Venkateswara University']"
      ]
     },
     "execution_count": 11,
     "metadata": {},
     "output_type": "execute_result"
    }
   ],
   "source": [
    "result=scraper.get_result_similar(url,group_by_alias=True)\n",
    "(result['Name'])"
   ]
  },
  {
   "cell_type": "code",
   "execution_count": 50,
   "id": "c182bbe4",
   "metadata": {},
   "outputs": [
    {
     "data": {
      "text/plain": [
       "100"
      ]
     },
     "execution_count": 50,
     "metadata": {},
     "output_type": "execute_result"
    }
   ],
   "source": [
    "university_2021=scraper.get_result_similar('https://www.nirfindia.org/2021/UniversityRanking.html',group_by_alias=True)\n",
    "len(university_2021['Score'])"
   ]
  },
  {
   "cell_type": "code",
   "execution_count": 51,
   "id": "acd74144",
   "metadata": {},
   "outputs": [
    {
     "data": {
      "text/plain": [
       "75"
      ]
     },
     "execution_count": 51,
     "metadata": {},
     "output_type": "execute_result"
    }
   ],
   "source": [
    "university_2021=scraper.get_result_similar('https://www.nirfindia.org/2021/ManagementRanking.html',group_by_alias=True)\n",
    "len(university_2021['OI'])"
   ]
  },
  {
   "cell_type": "code",
   "execution_count": 12,
   "id": "307a4519",
   "metadata": {},
   "outputs": [
    {
     "data": {
      "text/plain": [
       "['82.75',\n",
       " '81.32',\n",
       " '80.39',\n",
       " '73.85',\n",
       " '70.43',\n",
       " '69.96',\n",
       " '69.04',\n",
       " '67.19',\n",
       " '67.11',\n",
       " '65.95',\n",
       " '65.76',\n",
       " '62.87',\n",
       " '62.87',\n",
       " '61.77',\n",
       " '60.79',\n",
       " '60.53',\n",
       " '59.57',\n",
       " '56.93',\n",
       " '56.12',\n",
       " '55.97',\n",
       " '55.91',\n",
       " '55.82',\n",
       " '55.80',\n",
       " '55.44',\n",
       " '55.21',\n",
       " '55.01',\n",
       " '54.85',\n",
       " '54.65',\n",
       " '53.71',\n",
       " '53.56',\n",
       " '52.55',\n",
       " '52.15',\n",
       " '52.07',\n",
       " '51.41',\n",
       " '50.49',\n",
       " '49.51',\n",
       " '48.27',\n",
       " '48.27',\n",
       " '47.47',\n",
       " '47.38',\n",
       " '47.35',\n",
       " '47.22',\n",
       " '47.11',\n",
       " '46.75',\n",
       " '46.71',\n",
       " '46.69',\n",
       " '46.65',\n",
       " '46.63',\n",
       " '46.58',\n",
       " '46.51',\n",
       " '46.40',\n",
       " '46.22',\n",
       " '46.16',\n",
       " '46.14',\n",
       " '45.89',\n",
       " '45.50',\n",
       " '45.22',\n",
       " '45.13',\n",
       " '44.81',\n",
       " '44.71',\n",
       " '44.38',\n",
       " '44.26',\n",
       " '44.02',\n",
       " '44.02',\n",
       " '43.97',\n",
       " '43.73',\n",
       " '43.45',\n",
       " '43.40',\n",
       " '43.38',\n",
       " '43.30',\n",
       " '43.24',\n",
       " '42.70',\n",
       " '42.56',\n",
       " '42.47',\n",
       " '42.31']"
      ]
     },
     "execution_count": 12,
     "metadata": {},
     "output_type": "execute_result"
    }
   ],
   "source": [
    "management_2020=scraper.get_result_similar('https://www.nirfindia.org/2020/ManagementRanking.html',group_by_alias=True)\n",
    "(management_2020['Score'])"
   ]
  },
  {
   "cell_type": "code",
   "execution_count": 56,
   "id": "681d0ae5",
   "metadata": {},
   "outputs": [
    {
     "data": {
      "text/plain": [
       "15"
      ]
     },
     "execution_count": 56,
     "metadata": {},
     "output_type": "execute_result"
    }
   ],
   "source": [
    "architecture_2019=scraper.get_result_similar('https://www.nirfindia.org/2019/ArchitectureRanking.html',group_by_alias=True)\n",
    "len(architecture_2019['TLR'])"
   ]
  },
  {
   "cell_type": "code",
   "execution_count": 65,
   "id": "bf7fb247",
   "metadata": {},
   "outputs": [
    {
     "data": {
      "text/plain": [
       "100"
      ]
     },
     "execution_count": 65,
     "metadata": {},
     "output_type": "execute_result"
    }
   ],
   "source": [
    "engineering_2017=scraper.get_result_similar('https://www.nirfindia.org/2017/EngineeringRanking.html',group_by_alias=True)\n",
    "len(engineering_2017['pdf'])"
   ]
  },
  {
   "cell_type": "code",
   "execution_count": null,
   "id": "81c2bfcc",
   "metadata": {},
   "outputs": [],
   "source": []
  }
 ],
 "metadata": {
  "kernelspec": {
   "display_name": "Python 3",
   "language": "python",
   "name": "python3"
  },
  "language_info": {
   "codemirror_mode": {
    "name": "ipython",
    "version": 3
   },
   "file_extension": ".py",
   "mimetype": "text/x-python",
   "name": "python",
   "nbconvert_exporter": "python",
   "pygments_lexer": "ipython3",
   "version": "3.8.10"
  }
 },
 "nbformat": 4,
 "nbformat_minor": 5
}
