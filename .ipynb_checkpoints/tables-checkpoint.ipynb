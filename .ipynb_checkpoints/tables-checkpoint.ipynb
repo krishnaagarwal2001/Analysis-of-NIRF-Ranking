{
 "cells": [
  {
   "cell_type": "code",
   "execution_count": 4,
   "id": "7d371d9e",
   "metadata": {},
   "outputs": [],
   "source": [
    "from bs4 import BeautifulSoup\n",
    "import pandas as pd\n",
    "import numpy as np"
   ]
  },
  {
   "cell_type": "code",
   "execution_count": 5,
   "id": "cf35ba94",
   "metadata": {},
   "outputs": [],
   "source": [
    "filename = 'IR-E-U-0456.html'\n",
    "html_report_part1 = open(filename,'r')\n",
    "soup = BeautifulSoup( html_report_part1, \"html.parser\")"
   ]
  },
  {
   "cell_type": "code",
   "execution_count": 19,
   "id": "4c5e947a",
   "metadata": {},
   "outputs": [
    {
     "name": "stdout",
     "output_type": "stream",
     "text": [
      "18\n",
      "[['Academic Year', '2019-20', '2018-19', '2017-18', '2016-17', '2015-16', '2014-15'], ['UG [4 Years Program(s)]', '762', '488', '466', '466', '-', '-'], ['UG [5 Years Program(s)]', '157', '358', '372', '372', '372', '-'], ['PG [2 Year Program(s)]', '435', '403', '-', '-', '-', '-'], ['PG [3 Year Program(s)]', '245', '245', '245', '-', '-', '-']]\n"
     ]
    }
   ],
   "source": [
    "all_tables=[]\n",
    "table=[]\n",
    "table_tag = soup.find_all('table')\n",
    "for tables in table_tag:\n",
    "    tr_tag = tables.find_all('tr')\n",
    "    for tr in tr_tag:\n",
    "        row=[]\n",
    "        td_tag = tr.find_all('td')\n",
    "        flag=0\n",
    "        for td in td_tag:\n",
    "            p_tag = td.find_all('p')\n",
    "            if(len(p_tag)):\n",
    "                for p in p_tag:\n",
    "                    span_tag=p.find_all('span')\n",
    "                    att=span_tag[0].attrs['style']\n",
    "                    if(att.find('bold')!=-1):\n",
    "                        flag=1\n",
    "                        for span in span_tag:\n",
    "                            row.append(span.text)\n",
    "                    elif(len(span_tag)):\n",
    "                        for span in span_tag:\n",
    "                            row.append(span.text)\n",
    "                    else:\n",
    "                        flag=2\n",
    "                        \n",
    "        if(flag==1):\n",
    "            if(len(table)>0):\n",
    "                all_tables.append(table)\n",
    "                table=[]\n",
    "        if(flag==2):\n",
    "            break\n",
    "        table.append(row)\n",
    "if(len(table)>0):\n",
    "    all_tables.append(table)\n",
    "    table=[]\n",
    "\n",
    "print(len(all_tables))\n",
    "print(all_tables[0])\n"
   ]
  },
  {
   "cell_type": "code",
   "execution_count": 25,
   "id": "df91630f",
   "metadata": {},
   "outputs": [],
   "source": [
    "df = pd.DataFrame(data = all_tables[7]) \n",
    "df.columns = df.iloc[0] \n",
    "df = df[1:]\n"
   ]
  },
  {
   "cell_type": "code",
   "execution_count": 26,
   "id": "4843dfb9",
   "metadata": {},
   "outputs": [
    {
     "data": {
      "text/html": [
       "<div>\n",
       "<style scoped>\n",
       "    .dataframe tbody tr th:only-of-type {\n",
       "        vertical-align: middle;\n",
       "    }\n",
       "\n",
       "    .dataframe tbody tr th {\n",
       "        vertical-align: top;\n",
       "    }\n",
       "\n",
       "    .dataframe thead th {\n",
       "        text-align: right;\n",
       "    }\n",
       "</style>\n",
       "<table border=\"1\" class=\"dataframe\">\n",
       "  <thead>\n",
       "    <tr style=\"text-align: right;\">\n",
       "      <th></th>\n",
       "      <th></th>\n",
       "      <th>Total Students</th>\n",
       "    </tr>\n",
       "  </thead>\n",
       "  <tbody>\n",
       "    <tr>\n",
       "      <th>1</th>\n",
       "      <td>Full Time</td>\n",
       "      <td>2112</td>\n",
       "    </tr>\n",
       "    <tr>\n",
       "      <th>2</th>\n",
       "      <td>Part Time</td>\n",
       "      <td>39</td>\n",
       "    </tr>\n",
       "  </tbody>\n",
       "</table>\n",
       "</div>"
      ],
      "text/plain": [
       "0            Total Students\n",
       "1  Full Time           2112\n",
       "2  Part Time             39"
      ]
     },
     "execution_count": 26,
     "metadata": {},
     "output_type": "execute_result"
    }
   ],
   "source": [
    "df"
   ]
  },
  {
   "cell_type": "code",
   "execution_count": null,
   "id": "d3d65fd6",
   "metadata": {},
   "outputs": [],
   "source": []
  }
 ],
 "metadata": {
  "kernelspec": {
   "display_name": "Python 3",
   "language": "python",
   "name": "python3"
  },
  "language_info": {
   "codemirror_mode": {
    "name": "ipython",
    "version": 3
   },
   "file_extension": ".py",
   "mimetype": "text/x-python",
   "name": "python",
   "nbconvert_exporter": "python",
   "pygments_lexer": "ipython3",
   "version": "3.8.10"
  }
 },
 "nbformat": 4,
 "nbformat_minor": 5
}
