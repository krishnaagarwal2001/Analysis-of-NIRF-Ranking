{
 "cells": [
  {
   "cell_type": "markdown",
   "id": "61b1b2de",
   "metadata": {},
   "source": [
    "### URL To Image"
   ]
  },
  {
   "cell_type": "code",
   "execution_count": 79,
   "id": "85269f87",
   "metadata": {},
   "outputs": [],
   "source": [
    "from urllib.request import urlopen\n",
    "from PIL import Image\n",
    "from pytesseract import pytesseract\n",
    "import numpy as np\n",
    "import pandas as pd\n",
    "import cv2\n",
    "import re\n",
    "def url_to_image(url, readFlag=cv2.IMREAD_COLOR):\n",
    "    resp = urlopen(url)\n",
    "    image = np.asarray(bytearray(resp.read()), dtype=\"uint8\")\n",
    "    image = cv2.imdecode(image, readFlag)\n",
    "    return image"
   ]
  },
  {
   "cell_type": "markdown",
   "id": "31a9fb4e",
   "metadata": {},
   "source": [
    "### Data Extraction from Image"
   ]
  },
  {
   "cell_type": "code",
   "execution_count": 160,
   "id": "805bb903",
   "metadata": {},
   "outputs": [],
   "source": [
    "#Define path to tessaract.exe\n",
    "path_to_tesseract = r'C:\\Program Files\\Tesseract-OCR\\tesseract.exe'\n",
    "pytesseract.tesseract_cmd = path_to_tesseract\n",
    "\n",
    "#Define path to image\n",
    "path_to_image = 'IR-M-S-8890.jpg'\n",
    "path_to_image1 = 'IR-E-U-0456.jpg'\n",
    "path_to_image2 = 'IR-E-U-0037.jpg'\n",
    "def image_to_data(path_to_image):\n",
    "#     image = cv2.imread(path_to_image)\n",
    "    image=url_to_image(path_to_image)\n",
    "    gray = cv2.cvtColor(image, cv2.COLOR_BGR2GRAY)\n",
    "    thresh = cv2.threshold(gray, 0, 255, cv2.THRESH_BINARY_INV + cv2.THRESH_OTSU)[1]\n",
    "    invert = 255 - thresh\n",
    "    text = pytesseract.image_to_string(invert, lang='eng', config='--psm 6')\n",
    "#     print(text)\n",
    "    arr=[]\n",
    "    for line in text.splitlines():\n",
    "        arr.append(line)\n",
    "    arr=np.array(arr[-5:])\n",
    "    x = arr[3].split(\" \")\n",
    "    \n",
    "    if(len(x) != 19):\n",
    "        x = arr[2].split(\" \")\n",
    "#     print(x)\n",
    "#     if(x[1]=='SS' or x[1]=='ss'):\n",
    "#         arr=np.array(arr[-5:])\n",
    "#         x=arr[3].split(\" \")\n",
    "#     print(\"%%%%%%%%%%%%%%%%%%%%%%%%%%%%%%%%%\")\n",
    "#     print(arr[-3])\n",
    "#     print(x)\n",
    "    a=np.array(x)\n",
    "    a=a[2:]\n",
    "#     print(a)\n",
    "    temp=[]\n",
    "    flag=False\n",
    "    for i in a:\n",
    "        f=i.replace(\",\",\"\")\n",
    "        f=re.sub(\"[^0-9]\", \"\", f)\n",
    "        temp.append(f)\n",
    "#         print(f)\n",
    "        if(float(f)>100):\n",
    "            flag=True\n",
    "    a=np.array(temp)\n",
    "    \n",
    "#     print(\"******************************\")\n",
    "#     print(a)\n",
    "    a = a.astype(float)\n",
    "    if(flag):\n",
    "        for i in range(len(a)):\n",
    "            a[i]/=100\n",
    "#     temp=[]\n",
    "    final=a\n",
    "#     for i in final:\n",
    "#         j=float(i)\n",
    "#         temp.append(j)\n",
    "#     final=np.array(temp)\n",
    "#     print(final)\n",
    "    return final\n",
    "\n",
    "# a=image_to_data(path_to_image)\n",
    "b=image_to_data('https://www.nirfindia.org/nirfpdfcdn/2021/graph/Engineering/IR-E-U-0456.jpg')\n",
    "# c=image_to_data(path_to_image2)"
   ]
  },
  {
   "cell_type": "markdown",
   "id": "b0a179b1",
   "metadata": {},
   "source": [
    "### Web Scrapping"
   ]
  },
  {
   "cell_type": "code",
   "execution_count": 48,
   "id": "63cce58f",
   "metadata": {},
   "outputs": [],
   "source": [
    "from autoscraper import AutoScraper\n",
    "url=\"https://www.nirfindia.org/2021/EngineeringRanking.html\"\n",
    "wanted_list=[\"IR-E-U-0456\",\"Indian Institute of Technology Madras\",\"https://www.nirfindia.org/nirfpdfcdn/2021/graph/Engineering/IR-E-U-0456.jpg\",\"95.47\",\"96.43\",\"81.92\",\"62.44\",\"100.00\",\"https://www.nirfindia.org/nirfpdfcdn/2021/pdf/Engineering/IR-E-U-0456.pdf\",\"90.19\"]\n",
    "scraper=AutoScraper()\n",
    "result=scraper.build(url,wanted_list)\n",
    "rule=scraper.get_result_similar(url,grouped=True)\n",
    "keys=list(rule.keys())\n",
    "scraper.set_rule_aliases({keys[0]:'Institute ID',keys[1]:'Name',keys[2]:'image',keys[3]:'TLR',keys[4]:'RPC',keys[5]:'GO',keys[6]:'OI',keys[7]:'PERCEPTION',keys[8]:'pdf',keys[9]:'Score'})\n",
    "scraper.keep_rules([keys[0],keys[1],keys[2],keys[3],keys[4],keys[5],keys[6],keys[7],keys[8],keys[9]])\n",
    "scraper.save('nirf')"
   ]
  },
  {
   "cell_type": "code",
   "execution_count": 49,
   "id": "eb85e22a",
   "metadata": {},
   "outputs": [],
   "source": [
    "result=scraper.get_result_similar(url,group_by_alias=True)\n",
    "# (result['Name'])"
   ]
  },
  {
   "cell_type": "code",
   "execution_count": 50,
   "id": "c182bbe4",
   "metadata": {},
   "outputs": [
    {
     "data": {
      "text/plain": [
       "100"
      ]
     },
     "execution_count": 50,
     "metadata": {},
     "output_type": "execute_result"
    }
   ],
   "source": [
    "university_2021=scraper.get_result_similar('https://www.nirfindia.org/2021/UniversityRanking.html',group_by_alias=True)\n",
    "len(university_2021['Score'])"
   ]
  },
  {
   "cell_type": "code",
   "execution_count": 51,
   "id": "acd74144",
   "metadata": {},
   "outputs": [
    {
     "data": {
      "text/plain": [
       "75"
      ]
     },
     "execution_count": 51,
     "metadata": {},
     "output_type": "execute_result"
    }
   ],
   "source": [
    "university_2021=scraper.get_result_similar('https://www.nirfindia.org/2021/ManagementRanking.html',group_by_alias=True)\n",
    "len(university_2021['OI'])"
   ]
  },
  {
   "cell_type": "code",
   "execution_count": 52,
   "id": "307a4519",
   "metadata": {},
   "outputs": [],
   "source": [
    "management_2020=scraper.get_result_similar('https://www.nirfindia.org/2020/ManagementRanking.html',group_by_alias=True)\n",
    "# (management_2020['Score'])"
   ]
  },
  {
   "cell_type": "code",
   "execution_count": 53,
   "id": "681d0ae5",
   "metadata": {},
   "outputs": [
    {
     "data": {
      "text/plain": [
       "15"
      ]
     },
     "execution_count": 53,
     "metadata": {},
     "output_type": "execute_result"
    }
   ],
   "source": [
    "architecture_2019=scraper.get_result_similar('https://www.nirfindia.org/2019/ArchitectureRanking.html',group_by_alias=True)\n",
    "len(architecture_2019['TLR'])"
   ]
  },
  {
   "cell_type": "code",
   "execution_count": 54,
   "id": "bf7fb247",
   "metadata": {},
   "outputs": [
    {
     "data": {
      "text/plain": [
       "100"
      ]
     },
     "execution_count": 54,
     "metadata": {},
     "output_type": "execute_result"
    }
   ],
   "source": [
    "engineering_2017=scraper.get_result_similar('https://www.nirfindia.org/2017/EngineeringRanking.html',group_by_alias=True)\n",
    "len(engineering_2017['pdf'])"
   ]
  },
  {
   "cell_type": "code",
   "execution_count": 55,
   "id": "fe87e850",
   "metadata": {},
   "outputs": [
    {
     "data": {
      "text/plain": [
       "200"
      ]
     },
     "execution_count": 55,
     "metadata": {},
     "output_type": "execute_result"
    }
   ],
   "source": [
    "engineering_2021=scraper.get_result_similar('https://www.nirfindia.org/2021/EngineeringRanking.html',group_by_alias=True)\n",
    "len(engineering_2021['pdf'])"
   ]
  },
  {
   "cell_type": "code",
   "execution_count": 56,
   "id": "2441da71",
   "metadata": {},
   "outputs": [
    {
     "data": {
      "text/html": [
       "<div>\n",
       "<style scoped>\n",
       "    .dataframe tbody tr th:only-of-type {\n",
       "        vertical-align: middle;\n",
       "    }\n",
       "\n",
       "    .dataframe tbody tr th {\n",
       "        vertical-align: top;\n",
       "    }\n",
       "\n",
       "    .dataframe thead th {\n",
       "        text-align: right;\n",
       "    }\n",
       "</style>\n",
       "<table border=\"1\" class=\"dataframe\">\n",
       "  <thead>\n",
       "    <tr style=\"text-align: right;\">\n",
       "      <th></th>\n",
       "      <th>Name</th>\n",
       "      <th>Image</th>\n",
       "      <th>Pdf</th>\n",
       "    </tr>\n",
       "  </thead>\n",
       "  <tbody>\n",
       "    <tr>\n",
       "      <th>0</th>\n",
       "      <td>Indian Institute of Technology Madras</td>\n",
       "      <td>https://www.nirfindia.org/nirfpdfcdn/2021/grap...</td>\n",
       "      <td>https://www.nirfindia.org/nirfpdfcdn/2021/pdf/...</td>\n",
       "    </tr>\n",
       "    <tr>\n",
       "      <th>1</th>\n",
       "      <td>Indian Institute of Technology Delhi</td>\n",
       "      <td>https://www.nirfindia.org/nirfpdfcdn/2021/grap...</td>\n",
       "      <td>https://www.nirfindia.org/nirfpdfcdn/2021/pdf/...</td>\n",
       "    </tr>\n",
       "    <tr>\n",
       "      <th>2</th>\n",
       "      <td>Indian Institute of Technology Bombay</td>\n",
       "      <td>https://www.nirfindia.org/nirfpdfcdn/2021/grap...</td>\n",
       "      <td>https://www.nirfindia.org/nirfpdfcdn/2021/pdf/...</td>\n",
       "    </tr>\n",
       "    <tr>\n",
       "      <th>3</th>\n",
       "      <td>Indian Institute of Technology Kanpur</td>\n",
       "      <td>https://www.nirfindia.org/nirfpdfcdn/2021/grap...</td>\n",
       "      <td>https://www.nirfindia.org/nirfpdfcdn/2021/pdf/...</td>\n",
       "    </tr>\n",
       "    <tr>\n",
       "      <th>4</th>\n",
       "      <td>Indian Institute of Technology Kharagpur</td>\n",
       "      <td>https://www.nirfindia.org/nirfpdfcdn/2021/grap...</td>\n",
       "      <td>https://www.nirfindia.org/nirfpdfcdn/2021/pdf/...</td>\n",
       "    </tr>\n",
       "  </tbody>\n",
       "</table>\n",
       "</div>"
      ],
      "text/plain": [
       "                                       Name  \\\n",
       "0     Indian Institute of Technology Madras   \n",
       "1      Indian Institute of Technology Delhi   \n",
       "2     Indian Institute of Technology Bombay   \n",
       "3     Indian Institute of Technology Kanpur   \n",
       "4  Indian Institute of Technology Kharagpur   \n",
       "\n",
       "                                               Image  \\\n",
       "0  https://www.nirfindia.org/nirfpdfcdn/2021/grap...   \n",
       "1  https://www.nirfindia.org/nirfpdfcdn/2021/grap...   \n",
       "2  https://www.nirfindia.org/nirfpdfcdn/2021/grap...   \n",
       "3  https://www.nirfindia.org/nirfpdfcdn/2021/grap...   \n",
       "4  https://www.nirfindia.org/nirfpdfcdn/2021/grap...   \n",
       "\n",
       "                                                 Pdf  \n",
       "0  https://www.nirfindia.org/nirfpdfcdn/2021/pdf/...  \n",
       "1  https://www.nirfindia.org/nirfpdfcdn/2021/pdf/...  \n",
       "2  https://www.nirfindia.org/nirfpdfcdn/2021/pdf/...  \n",
       "3  https://www.nirfindia.org/nirfpdfcdn/2021/pdf/...  \n",
       "4  https://www.nirfindia.org/nirfpdfcdn/2021/pdf/...  "
      ]
     },
     "execution_count": 56,
     "metadata": {},
     "output_type": "execute_result"
    }
   ],
   "source": [
    "array=[engineering_2021['Name'],engineering_2021['image'],engineering_2021['pdf']]\n",
    "link=pd.DataFrame(array);\n",
    "link=link.T\n",
    "link.columns=['Name','Image','Pdf']\n",
    "link.head()"
   ]
  },
  {
   "cell_type": "code",
   "execution_count": 192,
   "id": "24ed501b",
   "metadata": {},
   "outputs": [
    {
     "name": "stdout",
     "output_type": "stream",
     "text": [
      "0\n",
      "1\n",
      "2\n",
      "3\n",
      "4\n",
      "5\n",
      "6\n",
      "7\n",
      "8\n",
      "9\n",
      "10\n",
      "11\n",
      "12\n",
      "13\n",
      "14\n",
      "15\n",
      "16\n",
      "17\n",
      "18\n",
      "19\n",
      "20\n",
      "21\n",
      "22\n",
      "23\n",
      "24\n",
      "25\n",
      "26\n",
      "27\n",
      "28\n",
      "29\n",
      "30\n",
      "31\n",
      "32\n",
      "33\n",
      "34\n",
      "35\n",
      "36\n",
      "37\n",
      "38\n",
      "39\n",
      "40\n",
      "41\n",
      "42\n",
      "43\n",
      "44\n"
     ]
    },
    {
     "ename": "KeyboardInterrupt",
     "evalue": "",
     "output_type": "error",
     "traceback": [
      "\u001b[1;31m---------------------------------------------------------------------------\u001b[0m",
      "\u001b[1;31mKeyboardInterrupt\u001b[0m                         Traceback (most recent call last)",
      "\u001b[1;32m<ipython-input-192-3dbf3806e488>\u001b[0m in \u001b[0;36m<module>\u001b[1;34m\u001b[0m\n\u001b[0;32m      6\u001b[0m     \u001b[0mprint\u001b[0m\u001b[1;33m(\u001b[0m\u001b[0mi\u001b[0m\u001b[1;33m)\u001b[0m\u001b[1;33m\u001b[0m\u001b[1;33m\u001b[0m\u001b[0m\n\u001b[0;32m      7\u001b[0m     \u001b[1;32mtry\u001b[0m\u001b[1;33m:\u001b[0m\u001b[1;33m\u001b[0m\u001b[1;33m\u001b[0m\u001b[0m\n\u001b[1;32m----> 8\u001b[1;33m         \u001b[0mtemp\u001b[0m\u001b[1;33m=\u001b[0m\u001b[0mimage_to_data\u001b[0m\u001b[1;33m(\u001b[0m\u001b[0mlink\u001b[0m\u001b[1;33m.\u001b[0m\u001b[0mloc\u001b[0m\u001b[1;33m[\u001b[0m\u001b[0mi\u001b[0m\u001b[1;33m,\u001b[0m\u001b[1;34m'Image'\u001b[0m\u001b[1;33m]\u001b[0m\u001b[1;33m)\u001b[0m\u001b[1;33m\u001b[0m\u001b[1;33m\u001b[0m\u001b[0m\n\u001b[0m\u001b[0;32m      9\u001b[0m         \u001b[0marray\u001b[0m\u001b[1;33m.\u001b[0m\u001b[0mappend\u001b[0m\u001b[1;33m(\u001b[0m\u001b[1;33m[\u001b[0m\u001b[0mlink\u001b[0m\u001b[1;33m.\u001b[0m\u001b[0mloc\u001b[0m\u001b[1;33m[\u001b[0m\u001b[0mi\u001b[0m\u001b[1;33m,\u001b[0m\u001b[1;34m'Name'\u001b[0m\u001b[1;33m]\u001b[0m\u001b[1;33m,\u001b[0m\u001b[0mtemp\u001b[0m\u001b[1;33m]\u001b[0m\u001b[1;33m)\u001b[0m\u001b[1;33m\u001b[0m\u001b[1;33m\u001b[0m\u001b[0m\n\u001b[0;32m     10\u001b[0m     \u001b[1;32mexcept\u001b[0m \u001b[0mException\u001b[0m\u001b[1;33m:\u001b[0m\u001b[1;33m\u001b[0m\u001b[1;33m\u001b[0m\u001b[0m\n",
      "\u001b[1;32m<ipython-input-160-2f7dea0a2605>\u001b[0m in \u001b[0;36mimage_to_data\u001b[1;34m(path_to_image)\u001b[0m\n\u001b[0;32m     13\u001b[0m     \u001b[0mthresh\u001b[0m \u001b[1;33m=\u001b[0m \u001b[0mcv2\u001b[0m\u001b[1;33m.\u001b[0m\u001b[0mthreshold\u001b[0m\u001b[1;33m(\u001b[0m\u001b[0mgray\u001b[0m\u001b[1;33m,\u001b[0m \u001b[1;36m0\u001b[0m\u001b[1;33m,\u001b[0m \u001b[1;36m255\u001b[0m\u001b[1;33m,\u001b[0m \u001b[0mcv2\u001b[0m\u001b[1;33m.\u001b[0m\u001b[0mTHRESH_BINARY_INV\u001b[0m \u001b[1;33m+\u001b[0m \u001b[0mcv2\u001b[0m\u001b[1;33m.\u001b[0m\u001b[0mTHRESH_OTSU\u001b[0m\u001b[1;33m)\u001b[0m\u001b[1;33m[\u001b[0m\u001b[1;36m1\u001b[0m\u001b[1;33m]\u001b[0m\u001b[1;33m\u001b[0m\u001b[1;33m\u001b[0m\u001b[0m\n\u001b[0;32m     14\u001b[0m     \u001b[0minvert\u001b[0m \u001b[1;33m=\u001b[0m \u001b[1;36m255\u001b[0m \u001b[1;33m-\u001b[0m \u001b[0mthresh\u001b[0m\u001b[1;33m\u001b[0m\u001b[1;33m\u001b[0m\u001b[0m\n\u001b[1;32m---> 15\u001b[1;33m     \u001b[0mtext\u001b[0m \u001b[1;33m=\u001b[0m \u001b[0mpytesseract\u001b[0m\u001b[1;33m.\u001b[0m\u001b[0mimage_to_string\u001b[0m\u001b[1;33m(\u001b[0m\u001b[0minvert\u001b[0m\u001b[1;33m,\u001b[0m \u001b[0mlang\u001b[0m\u001b[1;33m=\u001b[0m\u001b[1;34m'eng'\u001b[0m\u001b[1;33m,\u001b[0m \u001b[0mconfig\u001b[0m\u001b[1;33m=\u001b[0m\u001b[1;34m'--psm 6'\u001b[0m\u001b[1;33m)\u001b[0m\u001b[1;33m\u001b[0m\u001b[1;33m\u001b[0m\u001b[0m\n\u001b[0m\u001b[0;32m     16\u001b[0m \u001b[1;31m#     print(text)\u001b[0m\u001b[1;33m\u001b[0m\u001b[1;33m\u001b[0m\u001b[1;33m\u001b[0m\u001b[0m\n\u001b[0;32m     17\u001b[0m     \u001b[0marr\u001b[0m\u001b[1;33m=\u001b[0m\u001b[1;33m[\u001b[0m\u001b[1;33m]\u001b[0m\u001b[1;33m\u001b[0m\u001b[1;33m\u001b[0m\u001b[0m\n",
      "\u001b[1;32m~\\AppData\\Local\\Packages\\PythonSoftwareFoundation.Python.3.8_qbz5n2kfra8p0\\LocalCache\\local-packages\\Python38\\site-packages\\pytesseract\\pytesseract.py\u001b[0m in \u001b[0;36mimage_to_string\u001b[1;34m(image, lang, config, nice, output_type, timeout)\u001b[0m\n\u001b[0;32m    414\u001b[0m     \u001b[0margs\u001b[0m \u001b[1;33m=\u001b[0m \u001b[1;33m[\u001b[0m\u001b[0mimage\u001b[0m\u001b[1;33m,\u001b[0m \u001b[1;34m'txt'\u001b[0m\u001b[1;33m,\u001b[0m \u001b[0mlang\u001b[0m\u001b[1;33m,\u001b[0m \u001b[0mconfig\u001b[0m\u001b[1;33m,\u001b[0m \u001b[0mnice\u001b[0m\u001b[1;33m,\u001b[0m \u001b[0mtimeout\u001b[0m\u001b[1;33m]\u001b[0m\u001b[1;33m\u001b[0m\u001b[1;33m\u001b[0m\u001b[0m\n\u001b[0;32m    415\u001b[0m \u001b[1;33m\u001b[0m\u001b[0m\n\u001b[1;32m--> 416\u001b[1;33m     return {\n\u001b[0m\u001b[0;32m    417\u001b[0m         \u001b[0mOutput\u001b[0m\u001b[1;33m.\u001b[0m\u001b[0mBYTES\u001b[0m\u001b[1;33m:\u001b[0m \u001b[1;32mlambda\u001b[0m\u001b[1;33m:\u001b[0m \u001b[0mrun_and_get_output\u001b[0m\u001b[1;33m(\u001b[0m\u001b[1;33m*\u001b[0m\u001b[1;33m(\u001b[0m\u001b[0margs\u001b[0m \u001b[1;33m+\u001b[0m \u001b[1;33m[\u001b[0m\u001b[1;32mTrue\u001b[0m\u001b[1;33m]\u001b[0m\u001b[1;33m)\u001b[0m\u001b[1;33m)\u001b[0m\u001b[1;33m,\u001b[0m\u001b[1;33m\u001b[0m\u001b[1;33m\u001b[0m\u001b[0m\n\u001b[0;32m    418\u001b[0m         \u001b[0mOutput\u001b[0m\u001b[1;33m.\u001b[0m\u001b[0mDICT\u001b[0m\u001b[1;33m:\u001b[0m \u001b[1;32mlambda\u001b[0m\u001b[1;33m:\u001b[0m \u001b[1;33m{\u001b[0m\u001b[1;34m'text'\u001b[0m\u001b[1;33m:\u001b[0m \u001b[0mrun_and_get_output\u001b[0m\u001b[1;33m(\u001b[0m\u001b[1;33m*\u001b[0m\u001b[0margs\u001b[0m\u001b[1;33m)\u001b[0m\u001b[1;33m}\u001b[0m\u001b[1;33m,\u001b[0m\u001b[1;33m\u001b[0m\u001b[1;33m\u001b[0m\u001b[0m\n",
      "\u001b[1;32m~\\AppData\\Local\\Packages\\PythonSoftwareFoundation.Python.3.8_qbz5n2kfra8p0\\LocalCache\\local-packages\\Python38\\site-packages\\pytesseract\\pytesseract.py\u001b[0m in \u001b[0;36m<lambda>\u001b[1;34m()\u001b[0m\n\u001b[0;32m    417\u001b[0m         \u001b[0mOutput\u001b[0m\u001b[1;33m.\u001b[0m\u001b[0mBYTES\u001b[0m\u001b[1;33m:\u001b[0m \u001b[1;32mlambda\u001b[0m\u001b[1;33m:\u001b[0m \u001b[0mrun_and_get_output\u001b[0m\u001b[1;33m(\u001b[0m\u001b[1;33m*\u001b[0m\u001b[1;33m(\u001b[0m\u001b[0margs\u001b[0m \u001b[1;33m+\u001b[0m \u001b[1;33m[\u001b[0m\u001b[1;32mTrue\u001b[0m\u001b[1;33m]\u001b[0m\u001b[1;33m)\u001b[0m\u001b[1;33m)\u001b[0m\u001b[1;33m,\u001b[0m\u001b[1;33m\u001b[0m\u001b[1;33m\u001b[0m\u001b[0m\n\u001b[0;32m    418\u001b[0m         \u001b[0mOutput\u001b[0m\u001b[1;33m.\u001b[0m\u001b[0mDICT\u001b[0m\u001b[1;33m:\u001b[0m \u001b[1;32mlambda\u001b[0m\u001b[1;33m:\u001b[0m \u001b[1;33m{\u001b[0m\u001b[1;34m'text'\u001b[0m\u001b[1;33m:\u001b[0m \u001b[0mrun_and_get_output\u001b[0m\u001b[1;33m(\u001b[0m\u001b[1;33m*\u001b[0m\u001b[0margs\u001b[0m\u001b[1;33m)\u001b[0m\u001b[1;33m}\u001b[0m\u001b[1;33m,\u001b[0m\u001b[1;33m\u001b[0m\u001b[1;33m\u001b[0m\u001b[0m\n\u001b[1;32m--> 419\u001b[1;33m         \u001b[0mOutput\u001b[0m\u001b[1;33m.\u001b[0m\u001b[0mSTRING\u001b[0m\u001b[1;33m:\u001b[0m \u001b[1;32mlambda\u001b[0m\u001b[1;33m:\u001b[0m \u001b[0mrun_and_get_output\u001b[0m\u001b[1;33m(\u001b[0m\u001b[1;33m*\u001b[0m\u001b[0margs\u001b[0m\u001b[1;33m)\u001b[0m\u001b[1;33m,\u001b[0m\u001b[1;33m\u001b[0m\u001b[1;33m\u001b[0m\u001b[0m\n\u001b[0m\u001b[0;32m    420\u001b[0m     }[output_type]()\n\u001b[0;32m    421\u001b[0m \u001b[1;33m\u001b[0m\u001b[0m\n",
      "\u001b[1;32m~\\AppData\\Local\\Packages\\PythonSoftwareFoundation.Python.3.8_qbz5n2kfra8p0\\LocalCache\\local-packages\\Python38\\site-packages\\pytesseract\\pytesseract.py\u001b[0m in \u001b[0;36mrun_and_get_output\u001b[1;34m(image, extension, lang, config, nice, timeout, return_bytes)\u001b[0m\n\u001b[0;32m    284\u001b[0m         }\n\u001b[0;32m    285\u001b[0m \u001b[1;33m\u001b[0m\u001b[0m\n\u001b[1;32m--> 286\u001b[1;33m         \u001b[0mrun_tesseract\u001b[0m\u001b[1;33m(\u001b[0m\u001b[1;33m**\u001b[0m\u001b[0mkwargs\u001b[0m\u001b[1;33m)\u001b[0m\u001b[1;33m\u001b[0m\u001b[1;33m\u001b[0m\u001b[0m\n\u001b[0m\u001b[0;32m    287\u001b[0m         \u001b[0mfilename\u001b[0m \u001b[1;33m=\u001b[0m \u001b[0mkwargs\u001b[0m\u001b[1;33m[\u001b[0m\u001b[1;34m'output_filename_base'\u001b[0m\u001b[1;33m]\u001b[0m \u001b[1;33m+\u001b[0m \u001b[0mextsep\u001b[0m \u001b[1;33m+\u001b[0m \u001b[0mextension\u001b[0m\u001b[1;33m\u001b[0m\u001b[1;33m\u001b[0m\u001b[0m\n\u001b[0;32m    288\u001b[0m         \u001b[1;32mwith\u001b[0m \u001b[0mopen\u001b[0m\u001b[1;33m(\u001b[0m\u001b[0mfilename\u001b[0m\u001b[1;33m,\u001b[0m \u001b[1;34m'rb'\u001b[0m\u001b[1;33m)\u001b[0m \u001b[1;32mas\u001b[0m \u001b[0moutput_file\u001b[0m\u001b[1;33m:\u001b[0m\u001b[1;33m\u001b[0m\u001b[1;33m\u001b[0m\u001b[0m\n",
      "\u001b[1;32m~\\AppData\\Local\\Packages\\PythonSoftwareFoundation.Python.3.8_qbz5n2kfra8p0\\LocalCache\\local-packages\\Python38\\site-packages\\pytesseract\\pytesseract.py\u001b[0m in \u001b[0;36mrun_tesseract\u001b[1;34m(input_filename, output_filename_base, extension, lang, config, nice, timeout)\u001b[0m\n\u001b[0;32m    258\u001b[0m         \u001b[1;32mraise\u001b[0m \u001b[0mTesseractNotFoundError\u001b[0m\u001b[1;33m(\u001b[0m\u001b[1;33m)\u001b[0m\u001b[1;33m\u001b[0m\u001b[1;33m\u001b[0m\u001b[0m\n\u001b[0;32m    259\u001b[0m \u001b[1;33m\u001b[0m\u001b[0m\n\u001b[1;32m--> 260\u001b[1;33m     \u001b[1;32mwith\u001b[0m \u001b[0mtimeout_manager\u001b[0m\u001b[1;33m(\u001b[0m\u001b[0mproc\u001b[0m\u001b[1;33m,\u001b[0m \u001b[0mtimeout\u001b[0m\u001b[1;33m)\u001b[0m \u001b[1;32mas\u001b[0m \u001b[0merror_string\u001b[0m\u001b[1;33m:\u001b[0m\u001b[1;33m\u001b[0m\u001b[1;33m\u001b[0m\u001b[0m\n\u001b[0m\u001b[0;32m    261\u001b[0m         \u001b[1;32mif\u001b[0m \u001b[0mproc\u001b[0m\u001b[1;33m.\u001b[0m\u001b[0mreturncode\u001b[0m\u001b[1;33m:\u001b[0m\u001b[1;33m\u001b[0m\u001b[1;33m\u001b[0m\u001b[0m\n\u001b[0;32m    262\u001b[0m             \u001b[1;32mraise\u001b[0m \u001b[0mTesseractError\u001b[0m\u001b[1;33m(\u001b[0m\u001b[0mproc\u001b[0m\u001b[1;33m.\u001b[0m\u001b[0mreturncode\u001b[0m\u001b[1;33m,\u001b[0m \u001b[0mget_errors\u001b[0m\u001b[1;33m(\u001b[0m\u001b[0merror_string\u001b[0m\u001b[1;33m)\u001b[0m\u001b[1;33m)\u001b[0m\u001b[1;33m\u001b[0m\u001b[1;33m\u001b[0m\u001b[0m\n",
      "\u001b[1;32mC:\\Program Files\\WindowsApps\\PythonSoftwareFoundation.Python.3.8_3.8.2800.0_x64__qbz5n2kfra8p0\\lib\\contextlib.py\u001b[0m in \u001b[0;36m__enter__\u001b[1;34m(self)\u001b[0m\n\u001b[0;32m    111\u001b[0m         \u001b[1;32mdel\u001b[0m \u001b[0mself\u001b[0m\u001b[1;33m.\u001b[0m\u001b[0margs\u001b[0m\u001b[1;33m,\u001b[0m \u001b[0mself\u001b[0m\u001b[1;33m.\u001b[0m\u001b[0mkwds\u001b[0m\u001b[1;33m,\u001b[0m \u001b[0mself\u001b[0m\u001b[1;33m.\u001b[0m\u001b[0mfunc\u001b[0m\u001b[1;33m\u001b[0m\u001b[1;33m\u001b[0m\u001b[0m\n\u001b[0;32m    112\u001b[0m         \u001b[1;32mtry\u001b[0m\u001b[1;33m:\u001b[0m\u001b[1;33m\u001b[0m\u001b[1;33m\u001b[0m\u001b[0m\n\u001b[1;32m--> 113\u001b[1;33m             \u001b[1;32mreturn\u001b[0m \u001b[0mnext\u001b[0m\u001b[1;33m(\u001b[0m\u001b[0mself\u001b[0m\u001b[1;33m.\u001b[0m\u001b[0mgen\u001b[0m\u001b[1;33m)\u001b[0m\u001b[1;33m\u001b[0m\u001b[1;33m\u001b[0m\u001b[0m\n\u001b[0m\u001b[0;32m    114\u001b[0m         \u001b[1;32mexcept\u001b[0m \u001b[0mStopIteration\u001b[0m\u001b[1;33m:\u001b[0m\u001b[1;33m\u001b[0m\u001b[1;33m\u001b[0m\u001b[0m\n\u001b[0;32m    115\u001b[0m             \u001b[1;32mraise\u001b[0m \u001b[0mRuntimeError\u001b[0m\u001b[1;33m(\u001b[0m\u001b[1;34m\"generator didn't yield\"\u001b[0m\u001b[1;33m)\u001b[0m \u001b[1;32mfrom\u001b[0m \u001b[1;32mNone\u001b[0m\u001b[1;33m\u001b[0m\u001b[1;33m\u001b[0m\u001b[0m\n",
      "\u001b[1;32m~\\AppData\\Local\\Packages\\PythonSoftwareFoundation.Python.3.8_qbz5n2kfra8p0\\LocalCache\\local-packages\\Python38\\site-packages\\pytesseract\\pytesseract.py\u001b[0m in \u001b[0;36mtimeout_manager\u001b[1;34m(proc, seconds)\u001b[0m\n\u001b[0;32m    124\u001b[0m     \u001b[1;32mtry\u001b[0m\u001b[1;33m:\u001b[0m\u001b[1;33m\u001b[0m\u001b[1;33m\u001b[0m\u001b[0m\n\u001b[0;32m    125\u001b[0m         \u001b[1;32mif\u001b[0m \u001b[1;32mnot\u001b[0m \u001b[0mseconds\u001b[0m\u001b[1;33m:\u001b[0m\u001b[1;33m\u001b[0m\u001b[1;33m\u001b[0m\u001b[0m\n\u001b[1;32m--> 126\u001b[1;33m             \u001b[1;32myield\u001b[0m \u001b[0mproc\u001b[0m\u001b[1;33m.\u001b[0m\u001b[0mcommunicate\u001b[0m\u001b[1;33m(\u001b[0m\u001b[1;33m)\u001b[0m\u001b[1;33m[\u001b[0m\u001b[1;36m1\u001b[0m\u001b[1;33m]\u001b[0m\u001b[1;33m\u001b[0m\u001b[1;33m\u001b[0m\u001b[0m\n\u001b[0m\u001b[0;32m    127\u001b[0m             \u001b[1;32mreturn\u001b[0m\u001b[1;33m\u001b[0m\u001b[1;33m\u001b[0m\u001b[0m\n\u001b[0;32m    128\u001b[0m \u001b[1;33m\u001b[0m\u001b[0m\n",
      "\u001b[1;32mC:\\Program Files\\WindowsApps\\PythonSoftwareFoundation.Python.3.8_3.8.2800.0_x64__qbz5n2kfra8p0\\lib\\subprocess.py\u001b[0m in \u001b[0;36mcommunicate\u001b[1;34m(self, input, timeout)\u001b[0m\n\u001b[0;32m   1026\u001b[0m \u001b[1;33m\u001b[0m\u001b[0m\n\u001b[0;32m   1027\u001b[0m             \u001b[1;32mtry\u001b[0m\u001b[1;33m:\u001b[0m\u001b[1;33m\u001b[0m\u001b[1;33m\u001b[0m\u001b[0m\n\u001b[1;32m-> 1028\u001b[1;33m                 \u001b[0mstdout\u001b[0m\u001b[1;33m,\u001b[0m \u001b[0mstderr\u001b[0m \u001b[1;33m=\u001b[0m \u001b[0mself\u001b[0m\u001b[1;33m.\u001b[0m\u001b[0m_communicate\u001b[0m\u001b[1;33m(\u001b[0m\u001b[0minput\u001b[0m\u001b[1;33m,\u001b[0m \u001b[0mendtime\u001b[0m\u001b[1;33m,\u001b[0m \u001b[0mtimeout\u001b[0m\u001b[1;33m)\u001b[0m\u001b[1;33m\u001b[0m\u001b[1;33m\u001b[0m\u001b[0m\n\u001b[0m\u001b[0;32m   1029\u001b[0m             \u001b[1;32mexcept\u001b[0m \u001b[0mKeyboardInterrupt\u001b[0m\u001b[1;33m:\u001b[0m\u001b[1;33m\u001b[0m\u001b[1;33m\u001b[0m\u001b[0m\n\u001b[0;32m   1030\u001b[0m                 \u001b[1;31m# https://bugs.python.org/issue25942\u001b[0m\u001b[1;33m\u001b[0m\u001b[1;33m\u001b[0m\u001b[1;33m\u001b[0m\u001b[0m\n",
      "\u001b[1;32mC:\\Program Files\\WindowsApps\\PythonSoftwareFoundation.Python.3.8_3.8.2800.0_x64__qbz5n2kfra8p0\\lib\\subprocess.py\u001b[0m in \u001b[0;36m_communicate\u001b[1;34m(self, input, endtime, orig_timeout)\u001b[0m\n\u001b[0;32m   1397\u001b[0m             \u001b[1;31m# calls communicate again.\u001b[0m\u001b[1;33m\u001b[0m\u001b[1;33m\u001b[0m\u001b[1;33m\u001b[0m\u001b[0m\n\u001b[0;32m   1398\u001b[0m             \u001b[1;32mif\u001b[0m \u001b[0mself\u001b[0m\u001b[1;33m.\u001b[0m\u001b[0mstdout\u001b[0m \u001b[1;32mis\u001b[0m \u001b[1;32mnot\u001b[0m \u001b[1;32mNone\u001b[0m\u001b[1;33m:\u001b[0m\u001b[1;33m\u001b[0m\u001b[1;33m\u001b[0m\u001b[0m\n\u001b[1;32m-> 1399\u001b[1;33m                 \u001b[0mself\u001b[0m\u001b[1;33m.\u001b[0m\u001b[0mstdout_thread\u001b[0m\u001b[1;33m.\u001b[0m\u001b[0mjoin\u001b[0m\u001b[1;33m(\u001b[0m\u001b[0mself\u001b[0m\u001b[1;33m.\u001b[0m\u001b[0m_remaining_time\u001b[0m\u001b[1;33m(\u001b[0m\u001b[0mendtime\u001b[0m\u001b[1;33m)\u001b[0m\u001b[1;33m)\u001b[0m\u001b[1;33m\u001b[0m\u001b[1;33m\u001b[0m\u001b[0m\n\u001b[0m\u001b[0;32m   1400\u001b[0m                 \u001b[1;32mif\u001b[0m \u001b[0mself\u001b[0m\u001b[1;33m.\u001b[0m\u001b[0mstdout_thread\u001b[0m\u001b[1;33m.\u001b[0m\u001b[0mis_alive\u001b[0m\u001b[1;33m(\u001b[0m\u001b[1;33m)\u001b[0m\u001b[1;33m:\u001b[0m\u001b[1;33m\u001b[0m\u001b[1;33m\u001b[0m\u001b[0m\n\u001b[0;32m   1401\u001b[0m                     \u001b[1;32mraise\u001b[0m \u001b[0mTimeoutExpired\u001b[0m\u001b[1;33m(\u001b[0m\u001b[0mself\u001b[0m\u001b[1;33m.\u001b[0m\u001b[0margs\u001b[0m\u001b[1;33m,\u001b[0m \u001b[0morig_timeout\u001b[0m\u001b[1;33m)\u001b[0m\u001b[1;33m\u001b[0m\u001b[1;33m\u001b[0m\u001b[0m\n",
      "\u001b[1;32mC:\\Program Files\\WindowsApps\\PythonSoftwareFoundation.Python.3.8_3.8.2800.0_x64__qbz5n2kfra8p0\\lib\\threading.py\u001b[0m in \u001b[0;36mjoin\u001b[1;34m(self, timeout)\u001b[0m\n\u001b[0;32m   1009\u001b[0m \u001b[1;33m\u001b[0m\u001b[0m\n\u001b[0;32m   1010\u001b[0m         \u001b[1;32mif\u001b[0m \u001b[0mtimeout\u001b[0m \u001b[1;32mis\u001b[0m \u001b[1;32mNone\u001b[0m\u001b[1;33m:\u001b[0m\u001b[1;33m\u001b[0m\u001b[1;33m\u001b[0m\u001b[0m\n\u001b[1;32m-> 1011\u001b[1;33m             \u001b[0mself\u001b[0m\u001b[1;33m.\u001b[0m\u001b[0m_wait_for_tstate_lock\u001b[0m\u001b[1;33m(\u001b[0m\u001b[1;33m)\u001b[0m\u001b[1;33m\u001b[0m\u001b[1;33m\u001b[0m\u001b[0m\n\u001b[0m\u001b[0;32m   1012\u001b[0m         \u001b[1;32melse\u001b[0m\u001b[1;33m:\u001b[0m\u001b[1;33m\u001b[0m\u001b[1;33m\u001b[0m\u001b[0m\n\u001b[0;32m   1013\u001b[0m             \u001b[1;31m# the behavior of a negative timeout isn't documented, but\u001b[0m\u001b[1;33m\u001b[0m\u001b[1;33m\u001b[0m\u001b[1;33m\u001b[0m\u001b[0m\n",
      "\u001b[1;32mC:\\Program Files\\WindowsApps\\PythonSoftwareFoundation.Python.3.8_3.8.2800.0_x64__qbz5n2kfra8p0\\lib\\threading.py\u001b[0m in \u001b[0;36m_wait_for_tstate_lock\u001b[1;34m(self, block, timeout)\u001b[0m\n\u001b[0;32m   1025\u001b[0m         \u001b[1;32mif\u001b[0m \u001b[0mlock\u001b[0m \u001b[1;32mis\u001b[0m \u001b[1;32mNone\u001b[0m\u001b[1;33m:\u001b[0m  \u001b[1;31m# already determined that the C code is done\u001b[0m\u001b[1;33m\u001b[0m\u001b[1;33m\u001b[0m\u001b[0m\n\u001b[0;32m   1026\u001b[0m             \u001b[1;32massert\u001b[0m \u001b[0mself\u001b[0m\u001b[1;33m.\u001b[0m\u001b[0m_is_stopped\u001b[0m\u001b[1;33m\u001b[0m\u001b[1;33m\u001b[0m\u001b[0m\n\u001b[1;32m-> 1027\u001b[1;33m         \u001b[1;32melif\u001b[0m \u001b[0mlock\u001b[0m\u001b[1;33m.\u001b[0m\u001b[0macquire\u001b[0m\u001b[1;33m(\u001b[0m\u001b[0mblock\u001b[0m\u001b[1;33m,\u001b[0m \u001b[0mtimeout\u001b[0m\u001b[1;33m)\u001b[0m\u001b[1;33m:\u001b[0m\u001b[1;33m\u001b[0m\u001b[1;33m\u001b[0m\u001b[0m\n\u001b[0m\u001b[0;32m   1028\u001b[0m             \u001b[0mlock\u001b[0m\u001b[1;33m.\u001b[0m\u001b[0mrelease\u001b[0m\u001b[1;33m(\u001b[0m\u001b[1;33m)\u001b[0m\u001b[1;33m\u001b[0m\u001b[1;33m\u001b[0m\u001b[0m\n\u001b[0;32m   1029\u001b[0m             \u001b[0mself\u001b[0m\u001b[1;33m.\u001b[0m\u001b[0m_stop\u001b[0m\u001b[1;33m(\u001b[0m\u001b[1;33m)\u001b[0m\u001b[1;33m\u001b[0m\u001b[1;33m\u001b[0m\u001b[0m\n",
      "\u001b[1;31mKeyboardInterrupt\u001b[0m: "
     ]
    }
   ],
   "source": [
    "Parameters=['SS','FSR','FQE','FRU','PU','QP','IPR','FPPP','GPH','GUE','MS','GPHD','RD','WD','ESCS','PCS','PR']\n",
    "array=[]\n",
    "# image_to_data(df.loc[46,'Image'])\n",
    "link.loc[46,'Name']\n",
    "for i in range(link.shape[0]):\n",
    "    print(i)\n",
    "    try:\n",
    "        temp=image_to_data(link.loc[i,'Image'])\n",
    "        array.append([link.loc[i,'Name'],temp])\n",
    "    except Exception:\n",
    "        pass\n",
    "print(len(array))"
   ]
  },
  {
   "cell_type": "code",
   "execution_count": 175,
   "id": "5c3d1b48",
   "metadata": {},
   "outputs": [
    {
     "name": "stdout",
     "output_type": "stream",
     "text": [
      "{'SS': [18.5, 18.5, 18.5, 18.25, 18.44, 18.11, 16.69, 10.32, 16.0, 16.0, 15.34, 18.54, 9.11, 17.51, 10.28, 17.09, 17.08, 18.02, 11.24, 17.21, 9.43, 10.27, 16.0, 16.69, 16.0, 17.87, 13.77, 9.13, 12.86, 14.38, 14.77, 17.32, 10.5, 17.44, 12.0, 16.63, 12.71, 16.07, 19.0, 6.95, 9.64, 14.2, 10.32, 13.34, 15.0, 10.17, 12.79, 13.82, 16.75, 15.5, 11.5, 15.5, 8.38, 14.91, 12.16, 6.94, 4.31, 7.27, 13.34, 17.0, 14.48, 10.54, 13.68, 12.33, 17.89, 12.07, 11.5, 10.14, 11.56, 11.5, 11.17, 5.63, 11.0, 10.89, 5.97, 14.0, 12.0, 7.28, 8.35, 5.02, 12.5, 13.96, 12.18, 5.88, 11.49, 9.04, 13.48, 10.72, 13.26, 11.98, 10.39, 12.02, 12.64, 11.5, 12.11, 7.28, 13.7, 11.59, 10.2, 9.84, 11.26, 7.72, 9.5, 11.38, 5.75, 8.16, 7.56, 12.58, 14.05, 13.55, 8.83, 13.82, 6.62, 4.43, 13.72, 14.0, 7.59, 10.5, 4.19, 13.29, 14.5, 8.38, 10.96, 7.71, 8.89, 9.5, 10.57, 7.63, 10.05, 7.5, 12.0, 10.4, 13.5, 6.32, 10.62, 12.0, 8.79, 7.5, 13.5, 10.5, 8.5, 9.68, 6.78, 13.5, 13.5, 6.19, 12.0, 15.5, 10.94, 10.5, 12.0, 5.06, 13.12, 10.0, 12.45, 3.55, 11.98, 4.33, 7.57, 10.14, 8.54, 12.46, 13.5, 8.31, 4.54, 11.39, 9.0, 10.08, 11.27, 11.18, 11.43, 7.23, 11.47, 11.89, 12.14, 13.5, 9.18, 13.5, 10.76, 5.54, 12.72, 10.95, 8.78, 9.01, 5.51, 11.52, 9.77, 7.49, 8.64, 11.09, 9.98, 11.08, 10.82, 10.5, 9.0, 12.0, 9.5, 9.47]}\n"
     ]
    }
   ],
   "source": [
    "new_array=[]\n",
    "temp={'Name':[]}\n",
    "# print(len(array[0][1]))\n",
    "# print(len(Parameters))\n",
    "for i in range(len(array)):\n",
    "    temp['Name'].append(array[i][0])\n",
    "    if(len(array[i][1])==0):\n",
    "        print(array[i][0])\n",
    "new_array.append(temp)\n",
    "for i in range(len(Parameters)):\n",
    "    temp={Parameters[i]:[]}\n",
    "    for j in range(len(array)):\n",
    "        temp[Parameters[i]].append(array[j][1][i])\n",
    "    new_array.append(temp)\n",
    "print(new_array[1])"
   ]
  },
  {
   "cell_type": "code",
   "execution_count": 183,
   "id": "e43f9be1",
   "metadata": {},
   "outputs": [],
   "source": [
    "scores=pd.DataFrame()\n",
    "scores['Name']=new_array[0]['Name']\n",
    "for i in range(len(Parameters)):\n",
    "    scores[Parameters[i]]=new_array[i+1][Parameters[i]]\n",
    "scores.head()\n",
    "scores.to_csv('Scores_Engineering_2021.csv')"
   ]
  },
  {
   "cell_type": "markdown",
   "id": "7bc7dc02",
   "metadata": {},
   "source": [
    "# PDF DATA"
   ]
  },
  {
   "cell_type": "code",
   "execution_count": 203,
   "id": "c21c25f6",
   "metadata": {},
   "outputs": [],
   "source": [
    "import tabula\n",
    "from csv import reader\n",
    "import pandas as pd\n",
    "\n",
    "\n",
    "def pdf_to_data(url):\n",
    "    tabula.convert_into(url, \"test.csv\", output_format=\"csv\", pages='all')\n",
    "    all_tables=[]\n",
    "    table=[]\n",
    "    special_words=['Academic Year','(All programs\\nof all years)','Ph.D (Student pursuing doctoral program till 2019-20)','No. of Ph.D students graduated (including Integrated Ph.D)','Financial Year','1. Do your institution buildings have Lifts/Ramps?','2. Do your institution have provision for walking aids, including wheelchairs and transportation from one building to another for handicapped students?','3. Do your institution buildings have specially designed toilets for handicapped students?','Number of faculty members entered']\n",
    "\n",
    "    with open('test.csv', 'r') as read_obj:\n",
    "        csv_reader = reader(read_obj)\n",
    "        for row in csv_reader:\n",
    "            for word in special_words:\n",
    "                if(word in row):\n",
    "                    if(len(table)>0):\n",
    "                        all_tables.append(table)\n",
    "                        table=[]\n",
    "            updated_row=[]\n",
    "            for word in row:\n",
    "                    updated_word=word.replace(\"\\n\",\" \")\n",
    "                    updated_row.append(updated_word)\n",
    "            table.append(updated_row)\n",
    "\n",
    "    if(len(table)>0):\n",
    "        all_tables.append(table)\n",
    "        table=[]\n",
    "    \n",
    "    arr_df=[]\n",
    "    for i in range(len(all_tables)):\n",
    "        df = pd.DataFrame(data = all_tables[i])\n",
    "        df.columns = df.iloc[0] \n",
    "        df = df[1:]\n",
    "        arr_df.append(df)\n",
    "#         display(df)\n",
    "    return arr_df"
   ]
  },
  {
   "cell_type": "code",
   "execution_count": 205,
   "id": "ccc93648",
   "metadata": {},
   "outputs": [
    {
     "name": "stdout",
     "output_type": "stream",
     "text": [
      "0\n",
      "1\n",
      "2\n",
      "3\n",
      "4\n",
      "5\n",
      "6\n",
      "7\n",
      "8\n",
      "9\n",
      "10\n",
      "11\n",
      "12\n",
      "13\n",
      "14\n",
      "15\n",
      "16\n",
      "17\n",
      "18\n",
      "19\n",
      "20\n",
      "21\n",
      "22\n",
      "23\n",
      "24\n",
      "25\n",
      "26\n",
      "27\n",
      "28\n",
      "29\n",
      "30\n",
      "31\n",
      "32\n",
      "33\n",
      "34\n",
      "35\n",
      "36\n",
      "37\n",
      "38\n",
      "39\n",
      "40\n",
      "41\n",
      "42\n",
      "43\n",
      "44\n",
      "45\n",
      "46\n",
      "47\n",
      "48\n",
      "49\n",
      "50\n",
      "51\n",
      "52\n",
      "53\n",
      "54\n",
      "55\n",
      "56\n",
      "57\n",
      "58\n",
      "59\n",
      "60\n",
      "61\n",
      "62\n",
      "63\n",
      "64\n",
      "65\n",
      "66\n",
      "67\n",
      "68\n",
      "69\n",
      "70\n",
      "71\n",
      "72\n",
      "73\n",
      "74\n",
      "75\n",
      "76\n",
      "77\n",
      "78\n",
      "79\n",
      "80\n",
      "81\n",
      "82\n",
      "83\n",
      "84\n",
      "85\n",
      "86\n",
      "87\n",
      "88\n",
      "89\n",
      "90\n",
      "91\n",
      "92\n",
      "93\n",
      "94\n",
      "95\n",
      "96\n",
      "97\n",
      "98\n",
      "99\n",
      "100\n",
      "101\n",
      "102\n",
      "103\n",
      "104\n",
      "105\n",
      "106\n",
      "107\n",
      "108\n",
      "109\n",
      "110\n",
      "111\n",
      "112\n",
      "113\n",
      "114\n",
      "115\n",
      "116\n",
      "117\n",
      "118\n",
      "119\n",
      "120\n",
      "121\n",
      "122\n",
      "123\n",
      "124\n",
      "125\n",
      "126\n",
      "127\n",
      "128\n",
      "129\n",
      "130\n",
      "131\n",
      "132\n",
      "133\n",
      "134\n",
      "135\n",
      "136\n",
      "137\n",
      "138\n",
      "139\n",
      "140\n",
      "141\n",
      "142\n",
      "143\n",
      "144\n",
      "145\n",
      "146\n",
      "147\n",
      "148\n",
      "149\n",
      "150\n",
      "151\n",
      "152\n",
      "153\n",
      "154\n",
      "155\n",
      "156\n",
      "157\n",
      "158\n",
      "159\n",
      "160\n",
      "161\n",
      "162\n",
      "163\n",
      "164\n",
      "165\n",
      "166\n",
      "167\n",
      "168\n",
      "169\n",
      "170\n",
      "171\n",
      "172\n",
      "173\n",
      "174\n",
      "175\n",
      "176\n",
      "177\n",
      "178\n",
      "179\n",
      "180\n",
      "181\n",
      "182\n",
      "183\n",
      "184\n",
      "185\n",
      "186\n",
      "187\n",
      "188\n",
      "189\n",
      "190\n",
      "191\n",
      "192\n",
      "193\n",
      "194\n",
      "195\n",
      "196\n",
      "197\n",
      "198\n",
      "199\n"
     ]
    }
   ],
   "source": [
    "Engineering_2021_pdf={'Name':[],'Data':[]}\n",
    "\n",
    "for i in range(len(link)):\n",
    "    print(i)\n",
    "    Engineering_2021_pdf['Name'].append(link.loc[i,'Name'])\n",
    "    ret=pdf_to_data(link.loc[i,'Pdf'])\n",
    "    Engineering_2021_pdf['Data'].append(ret)"
   ]
  },
  {
   "cell_type": "code",
   "execution_count": 238,
   "id": "6f8e13ef",
   "metadata": {},
   "outputs": [
    {
     "data": {
      "text/plain": [
       "4"
      ]
     },
     "metadata": {},
     "output_type": "display_data"
    }
   ],
   "source": [
    "display(len(Engineering_2021_pdf['Data'][0][0]))"
   ]
  },
  {
   "cell_type": "code",
   "execution_count": 267,
   "id": "0e4e4904",
   "metadata": {},
   "outputs": [],
   "source": [
    "# Name UG_total PG_Total PHd_full phd_part Faculty\n",
    "Data=pd.DataFrame()\n",
    "Data['Name']=Engineering_2021_pdf['Name']"
   ]
  },
  {
   "cell_type": "code",
   "execution_count": 271,
   "id": "675a8bbd",
   "metadata": {},
   "outputs": [
    {
     "name": "stdout",
     "output_type": "stream",
     "text": [
      "200\n"
     ]
    }
   ],
   "source": [
    "# UG_INTAKE(NT)\n",
    "UG=[]\n",
    "for i in range(len(Engineering_2021_pdf['Data'])):\n",
    "    total=0\n",
    "    for k in range(len((Engineering_2021_pdf['Data'][i][0]))):\n",
    "        if(Engineering_2021_pdf['Data'][i][0].iloc[k,0].find('UG')!=-1):\n",
    "            for j in range(1,len(Engineering_2021_pdf['Data'][i][0].iloc[0])):\n",
    "                if(Engineering_2021_pdf['Data'][i][0].iloc[k,j]!='-'):\n",
    "                    total =total+int(Engineering_2021_pdf['Data'][i][0].iloc[k,j])\n",
    "    UG.append(total)\n",
    "print(len(UG))\n",
    "Data['UG Intake']=UG\n",
    "# Data.drop('UG')"
   ]
  },
  {
   "cell_type": "code",
   "execution_count": 272,
   "id": "060ef9d4",
   "metadata": {},
   "outputs": [
    {
     "name": "stdout",
     "output_type": "stream",
     "text": [
      "200\n"
     ]
    }
   ],
   "source": [
    "# UG_INTAKE(NT)\n",
    "PG=[]\n",
    "for i in range(len(Engineering_2021_pdf['Data'])):\n",
    "    total=0\n",
    "    for k in range(len((Engineering_2021_pdf['Data'][i][0]))):\n",
    "        if(Engineering_2021_pdf['Data'][i][0].iloc[k,0].find('PG')!=-1):\n",
    "            for j in range(1,len(Engineering_2021_pdf['Data'][i][0].iloc[0])):\n",
    "                if(Engineering_2021_pdf['Data'][i][0].iloc[k,j]!='-'):\n",
    "                    total =total+int(Engineering_2021_pdf['Data'][i][0].iloc[k,j])\n",
    "    PG.append(total)\n",
    "print(len(PG))\n",
    "Data['PG Intake']=PG"
   ]
  },
  {
   "cell_type": "code",
   "execution_count": 277,
   "id": "1816524e",
   "metadata": {},
   "outputs": [
    {
     "data": {
      "text/html": [
       "<div>\n",
       "<style scoped>\n",
       "    .dataframe tbody tr th:only-of-type {\n",
       "        vertical-align: middle;\n",
       "    }\n",
       "\n",
       "    .dataframe tbody tr th {\n",
       "        vertical-align: top;\n",
       "    }\n",
       "\n",
       "    .dataframe thead th {\n",
       "        text-align: right;\n",
       "    }\n",
       "</style>\n",
       "<table border=\"1\" class=\"dataframe\">\n",
       "  <thead>\n",
       "    <tr style=\"text-align: right;\">\n",
       "      <th></th>\n",
       "      <th>Name</th>\n",
       "      <th>UG Intake</th>\n",
       "      <th>PG Intake</th>\n",
       "      <th>N_T</th>\n",
       "    </tr>\n",
       "  </thead>\n",
       "  <tbody>\n",
       "    <tr>\n",
       "      <th>0</th>\n",
       "      <td>Indian Institute of Technology Madras</td>\n",
       "      <td>3813</td>\n",
       "      <td>1573</td>\n",
       "      <td>5386</td>\n",
       "    </tr>\n",
       "    <tr>\n",
       "      <th>1</th>\n",
       "      <td>Indian Institute of Technology Delhi</td>\n",
       "      <td>3772</td>\n",
       "      <td>2214</td>\n",
       "      <td>5986</td>\n",
       "    </tr>\n",
       "    <tr>\n",
       "      <th>2</th>\n",
       "      <td>Indian Institute of Technology Bombay</td>\n",
       "      <td>3744</td>\n",
       "      <td>1543</td>\n",
       "      <td>5287</td>\n",
       "    </tr>\n",
       "    <tr>\n",
       "      <th>3</th>\n",
       "      <td>Indian Institute of Technology Kanpur</td>\n",
       "      <td>3471</td>\n",
       "      <td>1895</td>\n",
       "      <td>5366</td>\n",
       "    </tr>\n",
       "    <tr>\n",
       "      <th>4</th>\n",
       "      <td>Indian Institute of Technology Kharagpur</td>\n",
       "      <td>2773</td>\n",
       "      <td>5946</td>\n",
       "      <td>8719</td>\n",
       "    </tr>\n",
       "  </tbody>\n",
       "</table>\n",
       "</div>"
      ],
      "text/plain": [
       "                                       Name  UG Intake  PG Intake   N_T\n",
       "0     Indian Institute of Technology Madras       3813       1573  5386\n",
       "1      Indian Institute of Technology Delhi       3772       2214  5986\n",
       "2     Indian Institute of Technology Bombay       3744       1543  5287\n",
       "3     Indian Institute of Technology Kanpur       3471       1895  5366\n",
       "4  Indian Institute of Technology Kharagpur       2773       5946  8719"
      ]
     },
     "execution_count": 277,
     "metadata": {},
     "output_type": "execute_result"
    }
   ],
   "source": [
    "Data.head()"
   ]
  },
  {
   "cell_type": "code",
   "execution_count": 276,
   "id": "824876fd",
   "metadata": {},
   "outputs": [],
   "source": [
    "N_T=[]\n",
    "for i in range(200):\n",
    "    tot=UG[i]+PG[i]\n",
    "    N_T.append(tot)\n",
    "Data['N_T']=N_T"
   ]
  },
  {
   "cell_type": "code",
   "execution_count": 292,
   "id": "4f43c76c",
   "metadata": {},
   "outputs": [
    {
     "data": {
      "text/plain": [
       "'National Institute of Technology Rourkela'"
      ]
     },
     "execution_count": 292,
     "metadata": {},
     "output_type": "execute_result"
    }
   ],
   "source": [
    "int(Engineering_2021_pdf['Data'][0][-1].columns.values[1])\n",
    "(Engineering_2021_pdf['Name'][19])"
   ]
  },
  {
   "cell_type": "code",
   "execution_count": 291,
   "id": "330c2f57",
   "metadata": {},
   "outputs": [
    {
     "name": "stdout",
     "output_type": "stream",
     "text": [
      "0\n",
      "1\n",
      "2\n",
      "3\n",
      "4\n",
      "5\n",
      "6\n",
      "7\n",
      "8\n",
      "9\n",
      "10\n",
      "11\n",
      "12\n",
      "13\n",
      "14\n",
      "15\n",
      "16\n",
      "17\n",
      "18\n",
      "19\n"
     ]
    },
    {
     "ename": "ValueError",
     "evalue": "invalid literal for int() with base 10: 'Yes, more than 80% of the buildings'",
     "output_type": "error",
     "traceback": [
      "\u001b[1;31m---------------------------------------------------------------------------\u001b[0m",
      "\u001b[1;31mValueError\u001b[0m                                Traceback (most recent call last)",
      "\u001b[1;32m<ipython-input-291-eb3f3273320f>\u001b[0m in \u001b[0;36m<module>\u001b[1;34m\u001b[0m\n\u001b[0;32m      2\u001b[0m \u001b[1;32mfor\u001b[0m \u001b[0mi\u001b[0m \u001b[1;32min\u001b[0m \u001b[0mrange\u001b[0m\u001b[1;33m(\u001b[0m\u001b[0mlen\u001b[0m\u001b[1;33m(\u001b[0m\u001b[0mEngineering_2021_pdf\u001b[0m\u001b[1;33m[\u001b[0m\u001b[1;34m'Data'\u001b[0m\u001b[1;33m]\u001b[0m\u001b[1;33m)\u001b[0m\u001b[1;33m)\u001b[0m\u001b[1;33m:\u001b[0m\u001b[1;33m\u001b[0m\u001b[1;33m\u001b[0m\u001b[0m\n\u001b[0;32m      3\u001b[0m     \u001b[0mprint\u001b[0m\u001b[1;33m(\u001b[0m\u001b[0mi\u001b[0m\u001b[1;33m)\u001b[0m\u001b[1;33m\u001b[0m\u001b[1;33m\u001b[0m\u001b[0m\n\u001b[1;32m----> 4\u001b[1;33m     \u001b[0mFaculty\u001b[0m\u001b[1;33m.\u001b[0m\u001b[0mappend\u001b[0m\u001b[1;33m(\u001b[0m\u001b[0mint\u001b[0m\u001b[1;33m(\u001b[0m\u001b[0mEngineering_2021_pdf\u001b[0m\u001b[1;33m[\u001b[0m\u001b[1;34m'Data'\u001b[0m\u001b[1;33m]\u001b[0m\u001b[1;33m[\u001b[0m\u001b[0mi\u001b[0m\u001b[1;33m]\u001b[0m\u001b[1;33m[\u001b[0m\u001b[1;33m-\u001b[0m\u001b[1;36m1\u001b[0m\u001b[1;33m]\u001b[0m\u001b[1;33m.\u001b[0m\u001b[0mcolumns\u001b[0m\u001b[1;33m.\u001b[0m\u001b[0mvalues\u001b[0m\u001b[1;33m[\u001b[0m\u001b[1;36m1\u001b[0m\u001b[1;33m]\u001b[0m\u001b[1;33m)\u001b[0m\u001b[1;33m)\u001b[0m\u001b[1;33m\u001b[0m\u001b[1;33m\u001b[0m\u001b[0m\n\u001b[0m",
      "\u001b[1;31mValueError\u001b[0m: invalid literal for int() with base 10: 'Yes, more than 80% of the buildings'"
     ]
    }
   ],
   "source": [
    "Faculty=[]\n",
    "for i in range(len(Engineering_2021_pdf['Data'])):\n",
    "    print(i)\n",
    "    Faculty.append(int(Engineering_2021_pdf['Data'][i][-1].columns.values[1]))"
   ]
  },
  {
   "cell_type": "code",
   "execution_count": null,
   "id": "4c0b4e29",
   "metadata": {},
   "outputs": [],
   "source": []
  }
 ],
 "metadata": {
  "kernelspec": {
   "display_name": "Python 3",
   "language": "python",
   "name": "python3"
  },
  "language_info": {
   "codemirror_mode": {
    "name": "ipython",
    "version": 3
   },
   "file_extension": ".py",
   "mimetype": "text/x-python",
   "name": "python",
   "nbconvert_exporter": "python",
   "pygments_lexer": "ipython3",
   "version": "3.8.10"
  }
 },
 "nbformat": 4,
 "nbformat_minor": 5
}
