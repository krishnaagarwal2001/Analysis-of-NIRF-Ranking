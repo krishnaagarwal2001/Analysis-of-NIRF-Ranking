{
 "cells": [
  {
   "cell_type": "code",
   "execution_count": 23,
   "id": "7d371d9e",
   "metadata": {},
   "outputs": [],
   "source": [
    "from bs4 import BeautifulSoup\n",
    "import pandas as pd\n",
    "import numpy as np"
   ]
  },
  {
   "cell_type": "code",
   "execution_count": 24,
   "id": "cf35ba94",
   "metadata": {},
   "outputs": [],
   "source": [
    "filename = 'IR-E-U-0456.html'\n",
    "html_report_part1 = open(filename,'r')\n",
    "soup = BeautifulSoup( html_report_part1, \"html.parser\")"
   ]
  },
  {
   "cell_type": "code",
   "execution_count": 25,
   "id": "41f0e29d",
   "metadata": {},
   "outputs": [],
   "source": [
    "all_tables=[]\n",
    "table=[]"
   ]
  },
  {
   "cell_type": "code",
   "execution_count": 26,
   "id": "03284bdc",
   "metadata": {},
   "outputs": [],
   "source": [
    "table_tag = soup.find_all('table')\n",
    "# print(table_tag)"
   ]
  },
  {
   "cell_type": "code",
   "execution_count": 29,
   "id": "4c5e947a",
   "metadata": {},
   "outputs": [
    {
     "name": "stdout",
     "output_type": "stream",
     "text": [
      "[['Academic Year', '2019-20', '2018-19', '2017-18', '2016-17', '2015-16', '2014-15'], ['UG [4 Years Program(s)]', '762', '488', '466', '466', '-', '-'], ['UG [5 Years Program(s)]', '157', '358', '372', '372', '372', '-'], ['PG [2 Year Program(s)]', '435', '403', '-', '-', '-', '-'], ['PG [3 Year Program(s)]', '245', '245', '245', '-', '-', '-']]\n"
     ]
    }
   ],
   "source": [
    "for tables in table_tag:\n",
    "    tr_tag = tables.find_all('tr')\n",
    "    for tr in tr_tag:\n",
    "        row=[]\n",
    "        td_tag = tr.find_all('td')\n",
    "        flag=0\n",
    "        for td in td_tag:\n",
    "            p_tag = td.find_all('p')\n",
    "            if(len(p_tag)):\n",
    "                for p in p_tag:\n",
    "#                     span_tag_attr=p.find_all('span',attrs={\"font-weight\": \"bold\"})\n",
    "#                     print(len(span_tag_attr))\n",
    "                    span_tag=p.find_all('span')\n",
    "                    att=span_tag[0].attrs['style']\n",
    "#                     print(span_tag[0].attrs['style'])\n",
    "#                     print(att.find('bold'))\n",
    "                    if(att.find('bold')!=-1):\n",
    "#                         print(\"HELLO\")\n",
    "                        flag=1\n",
    "                        for span in span_tag:\n",
    "                            row.append(span.text)\n",
    "                    elif(len(span_tag)):\n",
    "                        for span in span_tag:\n",
    "                            row.append(span.text)\n",
    "        if(flag==1):\n",
    "            if(len(table)>0):\n",
    "                all_tables.append(table)\n",
    "                table=[]\n",
    "        table.append(row)\n",
    "if(len(table)>0):\n",
    "    all_tables.append(table)\n",
    "    table=[]\n",
    "\n",
    "# print(len(all_tables))\n",
    "print(all_tables[0])\n"
   ]
  },
  {
   "cell_type": "code",
   "execution_count": 36,
   "id": "df91630f",
   "metadata": {},
   "outputs": [],
   "source": [
    "df = pd.DataFrame(data = all_tables[3]) \n",
    "df.columns = df.iloc[0] \n",
    "df = df[1:]\n"
   ]
  },
  {
   "cell_type": "code",
   "execution_count": 37,
   "id": "4843dfb9",
   "metadata": {},
   "outputs": [
    {
     "data": {
      "text/html": [
       "<div>\n",
       "<style scoped>\n",
       "    .dataframe tbody tr th:only-of-type {\n",
       "        vertical-align: middle;\n",
       "    }\n",
       "\n",
       "    .dataframe tbody tr th {\n",
       "        vertical-align: top;\n",
       "    }\n",
       "\n",
       "    .dataframe thead th {\n",
       "        text-align: right;\n",
       "    }\n",
       "</style>\n",
       "<table border=\"1\" class=\"dataframe\">\n",
       "  <thead>\n",
       "    <tr style=\"text-align: right;\">\n",
       "      <th></th>\n",
       "      <th>Academic Year</th>\n",
       "      <th>No. of first year students intake in the year</th>\n",
       "      <th>No. of first year students admitted in the year</th>\n",
       "      <th>Academic Year</th>\n",
       "      <th>No. of students admitted through Lateral entry</th>\n",
       "      <th>Academic Year</th>\n",
       "      <th>No. of students graduating in minimum stipulated time</th>\n",
       "      <th>No. of students placed</th>\n",
       "      <th>Median salary of placed graduates(Amount in Rs.)</th>\n",
       "      <th>No. of students selected for Higher Studies</th>\n",
       "    </tr>\n",
       "  </thead>\n",
       "  <tbody>\n",
       "    <tr>\n",
       "      <th>1</th>\n",
       "      <td>2013-14</td>\n",
       "      <td>392</td>\n",
       "      <td>369</td>\n",
       "      <td>2014-15</td>\n",
       "      <td>0</td>\n",
       "      <td>2017-18</td>\n",
       "      <td>341</td>\n",
       "      <td>261</td>\n",
       "      <td>1200000(Twelve lakhs)</td>\n",
       "      <td>59</td>\n",
       "    </tr>\n",
       "    <tr>\n",
       "      <th>2</th>\n",
       "      <td>2014-15</td>\n",
       "      <td>392</td>\n",
       "      <td>364</td>\n",
       "      <td>2015-16</td>\n",
       "      <td>0</td>\n",
       "      <td>2018-19</td>\n",
       "      <td>314</td>\n",
       "      <td>227</td>\n",
       "      <td>1350000(Thirteen lakhs Fifty thousand)</td>\n",
       "      <td>52</td>\n",
       "    </tr>\n",
       "    <tr>\n",
       "      <th>3</th>\n",
       "      <td>2015-16</td>\n",
       "      <td>372</td>\n",
       "      <td>346</td>\n",
       "      <td>2016-17</td>\n",
       "      <td>0</td>\n",
       "      <td>2019-20</td>\n",
       "      <td>316</td>\n",
       "      <td>248</td>\n",
       "      <td>1600000(Sixteen lakhs)</td>\n",
       "      <td>41</td>\n",
       "    </tr>\n",
       "  </tbody>\n",
       "</table>\n",
       "</div>"
      ],
      "text/plain": [
       "0 Academic Year No. of first year students intake in the year  \\\n",
       "1       2013-14                                           392   \n",
       "2       2014-15                                           392   \n",
       "3       2015-16                                           372   \n",
       "\n",
       "0 No. of first year students admitted in the year Academic Year  \\\n",
       "1                                             369       2014-15   \n",
       "2                                             364       2015-16   \n",
       "3                                             346       2016-17   \n",
       "\n",
       "0 No. of students admitted through Lateral entry Academic Year  \\\n",
       "1                                              0       2017-18   \n",
       "2                                              0       2018-19   \n",
       "3                                              0       2019-20   \n",
       "\n",
       "0 No. of students graduating in minimum stipulated time  \\\n",
       "1                                                341      \n",
       "2                                                314      \n",
       "3                                                316      \n",
       "\n",
       "0 No. of students placed Median salary of placed graduates(Amount in Rs.)  \\\n",
       "1                    261                            1200000(Twelve lakhs)   \n",
       "2                    227           1350000(Thirteen lakhs Fifty thousand)   \n",
       "3                    248                           1600000(Sixteen lakhs)   \n",
       "\n",
       "0 No. of students selected for Higher Studies  \n",
       "1                                          59  \n",
       "2                                          52  \n",
       "3                                          41  "
      ]
     },
     "execution_count": 37,
     "metadata": {},
     "output_type": "execute_result"
    }
   ],
   "source": [
    "df"
   ]
  },
  {
   "cell_type": "code",
   "execution_count": null,
   "id": "d3d65fd6",
   "metadata": {},
   "outputs": [],
   "source": []
  }
 ],
 "metadata": {
  "kernelspec": {
   "display_name": "Python 3",
   "language": "python",
   "name": "python3"
  },
  "language_info": {
   "codemirror_mode": {
    "name": "ipython",
    "version": 3
   },
   "file_extension": ".py",
   "mimetype": "text/x-python",
   "name": "python",
   "nbconvert_exporter": "python",
   "pygments_lexer": "ipython3",
   "version": "3.8.10"
  }
 },
 "nbformat": 4,
 "nbformat_minor": 5
}
