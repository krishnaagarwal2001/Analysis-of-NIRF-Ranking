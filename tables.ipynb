{
 "cells": [
  {
   "cell_type": "code",
   "execution_count": 3,
   "id": "7d371d9e",
   "metadata": {},
   "outputs": [],
   "source": [
    "from bs4 import BeautifulSoup\n",
    "import pandas as pd\n",
    "import numpy as np"
   ]
  },
  {
   "cell_type": "code",
   "execution_count": 4,
   "id": "cf35ba94",
   "metadata": {},
   "outputs": [],
   "source": [
    "filename = 'IR-E-U-0456.html'\n",
    "html_report_part1 = open(filename,'r')\n",
    "soup = BeautifulSoup( html_report_part1, \"html.parser\")"
   ]
  },
  {
   "cell_type": "code",
   "execution_count": 5,
   "id": "4c5e947a",
   "metadata": {
    "scrolled": true
   },
   "outputs": [
    {
     "name": "stdout",
     "output_type": "stream",
     "text": [
      "18\n",
      "[['Academic Year', '2019-20', '2018-19', '2017-18', '2016-17', '2015-16', '2014-15'], ['UG [4 Years Program(s)]', '762', '488', '466', '466', '-', '-'], ['UG [5 Years Program(s)]', '157', '358', '372', '372', '372', '-'], ['PG [2 Year Program(s)]', '435', '403', '-', '-', '-', '-'], ['PG [3 Year Program(s)]', '245', '245', '245', '-', '-', '-']]\n"
     ]
    }
   ],
   "source": [
    "all_tables=[]\n",
    "table=[]\n",
    "table_tag = soup.find_all('table')\n",
    "for tables in table_tag:\n",
    "    tr_tag = tables.find_all('tr')\n",
    "    for tr in tr_tag:\n",
    "        row=[]\n",
    "        td_tag = tr.find_all('td')\n",
    "        flag=0\n",
    "        for td in td_tag:\n",
    "            p_tag = td.find_all('p')\n",
    "            if(len(p_tag)):\n",
    "                for p in p_tag:\n",
    "                    span_tag=p.find_all('span')\n",
    "                    att=span_tag[0].attrs['style']\n",
    "                    if(att.find('bold')!=-1):\n",
    "                        flag=1\n",
    "                        for span in span_tag:\n",
    "                            row.append(span.text)\n",
    "                    elif(len(span_tag)):\n",
    "                        for span in span_tag:\n",
    "                            row.append(span.text)\n",
    "                    else:\n",
    "                        flag=2\n",
    "                        \n",
    "        if(flag==1):\n",
    "            if(len(table)>0):\n",
    "                all_tables.append(table)\n",
    "                table=[]\n",
    "        if(flag==2):\n",
    "            break\n",
    "        table.append(row)\n",
    "if(len(table)>0):\n",
    "    all_tables.append(table)\n",
    "    table=[]\n",
    "\n",
    "print(len(all_tables))\n",
    "print(all_tables[0])\n"
   ]
  },
  {
   "cell_type": "code",
   "execution_count": 8,
   "id": "df91630f",
   "metadata": {},
   "outputs": [],
   "source": [
    "df = pd.DataFrame(data = all_tables[3]) \n",
    "df.columns = df.iloc[0] \n",
    "df = df[1:]\n"
   ]
  },
  {
   "cell_type": "code",
   "execution_count": 9,
   "id": "4843dfb9",
   "metadata": {},
   "outputs": [
    {
     "data": {
      "text/html": [
       "<div>\n",
       "<style scoped>\n",
       "    .dataframe tbody tr th:only-of-type {\n",
       "        vertical-align: middle;\n",
       "    }\n",
       "\n",
       "    .dataframe tbody tr th {\n",
       "        vertical-align: top;\n",
       "    }\n",
       "\n",
       "    .dataframe thead th {\n",
       "        text-align: right;\n",
       "    }\n",
       "</style>\n",
       "<table border=\"1\" class=\"dataframe\">\n",
       "  <thead>\n",
       "    <tr style=\"text-align: right;\">\n",
       "      <th></th>\n",
       "      <th>Academic Year</th>\n",
       "      <th>No. of first year students intake in the year</th>\n",
       "      <th>No. of first year students admitted in the year</th>\n",
       "      <th>Academic Year</th>\n",
       "      <th>No. of students admitted through Lateral entry</th>\n",
       "      <th>Academic Year</th>\n",
       "      <th>No. of students graduating in minimum stipulated time</th>\n",
       "      <th>No. of students placed</th>\n",
       "      <th>Median salary of placed graduates(Amount in Rs.)</th>\n",
       "      <th>No. of students selected for Higher Studies</th>\n",
       "    </tr>\n",
       "  </thead>\n",
       "  <tbody>\n",
       "    <tr>\n",
       "      <th>1</th>\n",
       "      <td>2013-14</td>\n",
       "      <td>392</td>\n",
       "      <td>369</td>\n",
       "      <td>2014-15</td>\n",
       "      <td>0</td>\n",
       "      <td>2017-18</td>\n",
       "      <td>341</td>\n",
       "      <td>261</td>\n",
       "      <td>1200000(Twelve lakhs)</td>\n",
       "      <td>59</td>\n",
       "    </tr>\n",
       "    <tr>\n",
       "      <th>2</th>\n",
       "      <td>2014-15</td>\n",
       "      <td>392</td>\n",
       "      <td>364</td>\n",
       "      <td>2015-16</td>\n",
       "      <td>0</td>\n",
       "      <td>2018-19</td>\n",
       "      <td>314</td>\n",
       "      <td>227</td>\n",
       "      <td>1350000(Thirteen lakhs Fifty thousand)</td>\n",
       "      <td>52</td>\n",
       "    </tr>\n",
       "    <tr>\n",
       "      <th>3</th>\n",
       "      <td>2015-16</td>\n",
       "      <td>372</td>\n",
       "      <td>346</td>\n",
       "      <td>2016-17</td>\n",
       "      <td>0</td>\n",
       "      <td>2019-20</td>\n",
       "      <td>316</td>\n",
       "      <td>248</td>\n",
       "      <td>1600000(Sixteen lakhs)</td>\n",
       "      <td>41</td>\n",
       "    </tr>\n",
       "  </tbody>\n",
       "</table>\n",
       "</div>"
      ],
      "text/plain": [
       "0 Academic Year No. of first year students intake in the year  \\\n",
       "1       2013-14                                           392   \n",
       "2       2014-15                                           392   \n",
       "3       2015-16                                           372   \n",
       "\n",
       "0 No. of first year students admitted in the year Academic Year  \\\n",
       "1                                             369       2014-15   \n",
       "2                                             364       2015-16   \n",
       "3                                             346       2016-17   \n",
       "\n",
       "0 No. of students admitted through Lateral entry Academic Year  \\\n",
       "1                                              0       2017-18   \n",
       "2                                              0       2018-19   \n",
       "3                                              0       2019-20   \n",
       "\n",
       "0 No. of students graduating in minimum stipulated time  \\\n",
       "1                                                341      \n",
       "2                                                314      \n",
       "3                                                316      \n",
       "\n",
       "0 No. of students placed Median salary of placed graduates(Amount in Rs.)  \\\n",
       "1                    261                            1200000(Twelve lakhs)   \n",
       "2                    227           1350000(Thirteen lakhs Fifty thousand)   \n",
       "3                    248                           1600000(Sixteen lakhs)   \n",
       "\n",
       "0 No. of students selected for Higher Studies  \n",
       "1                                          59  \n",
       "2                                          52  \n",
       "3                                          41  "
      ]
     },
     "execution_count": 9,
     "metadata": {},
     "output_type": "execute_result"
    }
   ],
   "source": [
    "df"
   ]
  },
  {
   "cell_type": "code",
   "execution_count": 10,
   "id": "d3d65fd6",
   "metadata": {},
   "outputs": [
    {
     "data": {
      "text/plain": [
       "<aspose.words.saving.SaveOutputParameters object at 0x00000272C47324F0>"
      ]
     },
     "execution_count": 10,
     "metadata": {},
     "output_type": "execute_result"
    }
   ],
   "source": [
    "import aspose.words as aw\n",
    "\n",
    "doc = aw.Document(\"IR-E-U-0456.pdf\")\n",
    "doc.save(\"Output.html\")\n"
   ]
  },
  {
   "cell_type": "code",
   "execution_count": 8,
   "id": "6b0e1401",
   "metadata": {},
   "outputs": [],
   "source": [
    "import tabula\n",
    "tabula.convert_into(\"IR-E-I-1074.pdf\", \"delhi.csv\", output_format=\"csv\", pages='all')"
   ]
  },
  {
   "cell_type": "code",
   "execution_count": 7,
   "id": "6ac25408",
   "metadata": {},
   "outputs": [
    {
     "ename": "ParserError",
     "evalue": "Error tokenizing data. C error: Expected 7 fields in line 6, saw 13\n",
     "output_type": "error",
     "traceback": [
      "\u001b[1;31m---------------------------------------------------------------------------\u001b[0m",
      "\u001b[1;31mParserError\u001b[0m                               Traceback (most recent call last)",
      "\u001b[1;32m<ipython-input-7-110ab2123122>\u001b[0m in \u001b[0;36m<module>\u001b[1;34m\u001b[0m\n\u001b[0;32m      1\u001b[0m \u001b[1;32mimport\u001b[0m \u001b[0mpandas\u001b[0m \u001b[1;32mas\u001b[0m \u001b[0mpd\u001b[0m\u001b[1;33m\u001b[0m\u001b[1;33m\u001b[0m\u001b[0m\n\u001b[1;32m----> 2\u001b[1;33m \u001b[0mdf\u001b[0m \u001b[1;33m=\u001b[0m \u001b[0mpd\u001b[0m\u001b[1;33m.\u001b[0m\u001b[0mread_csv\u001b[0m\u001b[1;33m(\u001b[0m\u001b[1;34m'test.csv'\u001b[0m\u001b[1;33m)\u001b[0m\u001b[1;33m\u001b[0m\u001b[1;33m\u001b[0m\u001b[0m\n\u001b[0m",
      "\u001b[1;32m~\\AppData\\Local\\Packages\\PythonSoftwareFoundation.Python.3.8_qbz5n2kfra8p0\\LocalCache\\local-packages\\Python38\\site-packages\\pandas\\io\\parsers.py\u001b[0m in \u001b[0;36mread_csv\u001b[1;34m(filepath_or_buffer, sep, delimiter, header, names, index_col, usecols, squeeze, prefix, mangle_dupe_cols, dtype, engine, converters, true_values, false_values, skipinitialspace, skiprows, skipfooter, nrows, na_values, keep_default_na, na_filter, verbose, skip_blank_lines, parse_dates, infer_datetime_format, keep_date_col, date_parser, dayfirst, cache_dates, iterator, chunksize, compression, thousands, decimal, lineterminator, quotechar, quoting, doublequote, escapechar, comment, encoding, dialect, error_bad_lines, warn_bad_lines, delim_whitespace, low_memory, memory_map, float_precision, storage_options)\u001b[0m\n\u001b[0;32m    608\u001b[0m     \u001b[0mkwds\u001b[0m\u001b[1;33m.\u001b[0m\u001b[0mupdate\u001b[0m\u001b[1;33m(\u001b[0m\u001b[0mkwds_defaults\u001b[0m\u001b[1;33m)\u001b[0m\u001b[1;33m\u001b[0m\u001b[1;33m\u001b[0m\u001b[0m\n\u001b[0;32m    609\u001b[0m \u001b[1;33m\u001b[0m\u001b[0m\n\u001b[1;32m--> 610\u001b[1;33m     \u001b[1;32mreturn\u001b[0m \u001b[0m_read\u001b[0m\u001b[1;33m(\u001b[0m\u001b[0mfilepath_or_buffer\u001b[0m\u001b[1;33m,\u001b[0m \u001b[0mkwds\u001b[0m\u001b[1;33m)\u001b[0m\u001b[1;33m\u001b[0m\u001b[1;33m\u001b[0m\u001b[0m\n\u001b[0m\u001b[0;32m    611\u001b[0m \u001b[1;33m\u001b[0m\u001b[0m\n\u001b[0;32m    612\u001b[0m \u001b[1;33m\u001b[0m\u001b[0m\n",
      "\u001b[1;32m~\\AppData\\Local\\Packages\\PythonSoftwareFoundation.Python.3.8_qbz5n2kfra8p0\\LocalCache\\local-packages\\Python38\\site-packages\\pandas\\io\\parsers.py\u001b[0m in \u001b[0;36m_read\u001b[1;34m(filepath_or_buffer, kwds)\u001b[0m\n\u001b[0;32m    466\u001b[0m \u001b[1;33m\u001b[0m\u001b[0m\n\u001b[0;32m    467\u001b[0m     \u001b[1;32mwith\u001b[0m \u001b[0mparser\u001b[0m\u001b[1;33m:\u001b[0m\u001b[1;33m\u001b[0m\u001b[1;33m\u001b[0m\u001b[0m\n\u001b[1;32m--> 468\u001b[1;33m         \u001b[1;32mreturn\u001b[0m \u001b[0mparser\u001b[0m\u001b[1;33m.\u001b[0m\u001b[0mread\u001b[0m\u001b[1;33m(\u001b[0m\u001b[0mnrows\u001b[0m\u001b[1;33m)\u001b[0m\u001b[1;33m\u001b[0m\u001b[1;33m\u001b[0m\u001b[0m\n\u001b[0m\u001b[0;32m    469\u001b[0m \u001b[1;33m\u001b[0m\u001b[0m\n\u001b[0;32m    470\u001b[0m \u001b[1;33m\u001b[0m\u001b[0m\n",
      "\u001b[1;32m~\\AppData\\Local\\Packages\\PythonSoftwareFoundation.Python.3.8_qbz5n2kfra8p0\\LocalCache\\local-packages\\Python38\\site-packages\\pandas\\io\\parsers.py\u001b[0m in \u001b[0;36mread\u001b[1;34m(self, nrows)\u001b[0m\n\u001b[0;32m   1055\u001b[0m     \u001b[1;32mdef\u001b[0m \u001b[0mread\u001b[0m\u001b[1;33m(\u001b[0m\u001b[0mself\u001b[0m\u001b[1;33m,\u001b[0m \u001b[0mnrows\u001b[0m\u001b[1;33m=\u001b[0m\u001b[1;32mNone\u001b[0m\u001b[1;33m)\u001b[0m\u001b[1;33m:\u001b[0m\u001b[1;33m\u001b[0m\u001b[1;33m\u001b[0m\u001b[0m\n\u001b[0;32m   1056\u001b[0m         \u001b[0mnrows\u001b[0m \u001b[1;33m=\u001b[0m \u001b[0mvalidate_integer\u001b[0m\u001b[1;33m(\u001b[0m\u001b[1;34m\"nrows\"\u001b[0m\u001b[1;33m,\u001b[0m \u001b[0mnrows\u001b[0m\u001b[1;33m)\u001b[0m\u001b[1;33m\u001b[0m\u001b[1;33m\u001b[0m\u001b[0m\n\u001b[1;32m-> 1057\u001b[1;33m         \u001b[0mindex\u001b[0m\u001b[1;33m,\u001b[0m \u001b[0mcolumns\u001b[0m\u001b[1;33m,\u001b[0m \u001b[0mcol_dict\u001b[0m \u001b[1;33m=\u001b[0m \u001b[0mself\u001b[0m\u001b[1;33m.\u001b[0m\u001b[0m_engine\u001b[0m\u001b[1;33m.\u001b[0m\u001b[0mread\u001b[0m\u001b[1;33m(\u001b[0m\u001b[0mnrows\u001b[0m\u001b[1;33m)\u001b[0m\u001b[1;33m\u001b[0m\u001b[1;33m\u001b[0m\u001b[0m\n\u001b[0m\u001b[0;32m   1058\u001b[0m \u001b[1;33m\u001b[0m\u001b[0m\n\u001b[0;32m   1059\u001b[0m         \u001b[1;32mif\u001b[0m \u001b[0mindex\u001b[0m \u001b[1;32mis\u001b[0m \u001b[1;32mNone\u001b[0m\u001b[1;33m:\u001b[0m\u001b[1;33m\u001b[0m\u001b[1;33m\u001b[0m\u001b[0m\n",
      "\u001b[1;32m~\\AppData\\Local\\Packages\\PythonSoftwareFoundation.Python.3.8_qbz5n2kfra8p0\\LocalCache\\local-packages\\Python38\\site-packages\\pandas\\io\\parsers.py\u001b[0m in \u001b[0;36mread\u001b[1;34m(self, nrows)\u001b[0m\n\u001b[0;32m   2059\u001b[0m     \u001b[1;32mdef\u001b[0m \u001b[0mread\u001b[0m\u001b[1;33m(\u001b[0m\u001b[0mself\u001b[0m\u001b[1;33m,\u001b[0m \u001b[0mnrows\u001b[0m\u001b[1;33m=\u001b[0m\u001b[1;32mNone\u001b[0m\u001b[1;33m)\u001b[0m\u001b[1;33m:\u001b[0m\u001b[1;33m\u001b[0m\u001b[1;33m\u001b[0m\u001b[0m\n\u001b[0;32m   2060\u001b[0m         \u001b[1;32mtry\u001b[0m\u001b[1;33m:\u001b[0m\u001b[1;33m\u001b[0m\u001b[1;33m\u001b[0m\u001b[0m\n\u001b[1;32m-> 2061\u001b[1;33m             \u001b[0mdata\u001b[0m \u001b[1;33m=\u001b[0m \u001b[0mself\u001b[0m\u001b[1;33m.\u001b[0m\u001b[0m_reader\u001b[0m\u001b[1;33m.\u001b[0m\u001b[0mread\u001b[0m\u001b[1;33m(\u001b[0m\u001b[0mnrows\u001b[0m\u001b[1;33m)\u001b[0m\u001b[1;33m\u001b[0m\u001b[1;33m\u001b[0m\u001b[0m\n\u001b[0m\u001b[0;32m   2062\u001b[0m         \u001b[1;32mexcept\u001b[0m \u001b[0mStopIteration\u001b[0m\u001b[1;33m:\u001b[0m\u001b[1;33m\u001b[0m\u001b[1;33m\u001b[0m\u001b[0m\n\u001b[0;32m   2063\u001b[0m             \u001b[1;32mif\u001b[0m \u001b[0mself\u001b[0m\u001b[1;33m.\u001b[0m\u001b[0m_first_chunk\u001b[0m\u001b[1;33m:\u001b[0m\u001b[1;33m\u001b[0m\u001b[1;33m\u001b[0m\u001b[0m\n",
      "\u001b[1;32mpandas\\_libs\\parsers.pyx\u001b[0m in \u001b[0;36mpandas._libs.parsers.TextReader.read\u001b[1;34m()\u001b[0m\n",
      "\u001b[1;32mpandas\\_libs\\parsers.pyx\u001b[0m in \u001b[0;36mpandas._libs.parsers.TextReader._read_low_memory\u001b[1;34m()\u001b[0m\n",
      "\u001b[1;32mpandas\\_libs\\parsers.pyx\u001b[0m in \u001b[0;36mpandas._libs.parsers.TextReader._read_rows\u001b[1;34m()\u001b[0m\n",
      "\u001b[1;32mpandas\\_libs\\parsers.pyx\u001b[0m in \u001b[0;36mpandas._libs.parsers.TextReader._tokenize_rows\u001b[1;34m()\u001b[0m\n",
      "\u001b[1;32mpandas\\_libs\\parsers.pyx\u001b[0m in \u001b[0;36mpandas._libs.parsers.raise_parser_error\u001b[1;34m()\u001b[0m\n",
      "\u001b[1;31mParserError\u001b[0m: Error tokenizing data. C error: Expected 7 fields in line 6, saw 13\n"
     ]
    }
   ],
   "source": [
    "import pandas as pd\n",
    "df = pd.read_csv('test.csv')"
   ]
  },
  {
   "cell_type": "code",
   "execution_count": 15,
   "id": "e881fc90",
   "metadata": {},
   "outputs": [
    {
     "name": "stdout",
     "output_type": "stream",
     "text": [
      "[['Ph.D (Student pursuing doctoral program till 2019-20)', '', '', '', '', '', '', '', '', '', '', '', ''], ['', 'Total Students', '', '', '', '', '', '', '', '', '', '', ''], ['Full Time', '2112', '', '', '', '', '', '', '', '', '', '', ''], ['Part Time', '39', '', '', '', '', '', '', '', '', '', '', '']]\n"
     ]
    }
   ],
   "source": [
    "import tabula\n",
    "tabula.convert_into(\"IR-E-I-1074.pdf\", \"delhi.csv\", output_format=\"csv\", pages='all')\n",
    "all_tables=[]\n",
    "table=[]\n",
    "special_words=['Academic Year','(All programs\\nof all years)','Ph.D (Student pursuing doctoral program till 2019-20)','No. of Ph.D students graduated (including Integrated Ph.D)','Financial Year','1. Do your institution buildings have Lifts/Ramps?','2. Do your institution have provision for walking aids, including wheelchairs and transportation from one building to another for handicapped students?','3. Do your institution buildings have specially designed toilets for handicapped students?','Number of faculty members entered']\n",
    "from csv import reader\n",
    "# open file in read mode\n",
    "with open('test.csv', 'r') as read_obj:\n",
    "    csv_reader = reader(read_obj)\n",
    "    for row in csv_reader:\n",
    "        for word in special_words:\n",
    "            if(word in row):\n",
    "                if(len(table)>0):\n",
    "                    all_tables.append(table)\n",
    "                    table=[]\n",
    "        updated_row=[]\n",
    "        for word in row:\n",
    "                updated_word=word.replace(\"\\n\",\" \")\n",
    "                updated_row.append(updated_word)\n",
    "        table.append(updated_row)\n",
    "\n",
    "if(len(table)>0):\n",
    "    all_tables.append(table)\n",
    "    table=[]\n",
    "    \n",
    "print(all_tables[6])"
   ]
  },
  {
   "cell_type": "code",
   "execution_count": 34,
   "id": "91282c13",
   "metadata": {},
   "outputs": [
    {
     "data": {
      "text/html": [
       "<div>\n",
       "<style scoped>\n",
       "    .dataframe tbody tr th:only-of-type {\n",
       "        vertical-align: middle;\n",
       "    }\n",
       "\n",
       "    .dataframe tbody tr th {\n",
       "        vertical-align: top;\n",
       "    }\n",
       "\n",
       "    .dataframe thead th {\n",
       "        text-align: right;\n",
       "    }\n",
       "</style>\n",
       "<table border=\"1\" class=\"dataframe\">\n",
       "  <thead>\n",
       "    <tr style=\"text-align: right;\">\n",
       "      <th></th>\n",
       "      <th>Number of faculty members entered</th>\n",
       "      <th>642</th>\n",
       "      <th></th>\n",
       "      <th></th>\n",
       "      <th></th>\n",
       "      <th></th>\n",
       "      <th></th>\n",
       "      <th></th>\n",
       "      <th></th>\n",
       "      <th></th>\n",
       "      <th></th>\n",
       "      <th></th>\n",
       "      <th></th>\n",
       "    </tr>\n",
       "  </thead>\n",
       "  <tbody>\n",
       "  </tbody>\n",
       "</table>\n",
       "</div>"
      ],
      "text/plain": [
       "Empty DataFrame\n",
       "Columns: [Number of faculty members entered, 642, , , , , , , , , , , ]\n",
       "Index: []"
      ]
     },
     "execution_count": 34,
     "metadata": {},
     "output_type": "execute_result"
    }
   ],
   "source": [
    "import pandas as pd\n",
    "df = pd.DataFrame(data = all_tables[14]) \n",
    "df.columns = df.iloc[0] \n",
    "df = df[1:]\n",
    "df"
   ]
  },
  {
   "cell_type": "code",
   "execution_count": null,
   "id": "74b2fc1c",
   "metadata": {},
   "outputs": [],
   "source": []
  }
 ],
 "metadata": {
  "kernelspec": {
   "display_name": "Python 3",
   "language": "python",
   "name": "python3"
  },
  "language_info": {
   "codemirror_mode": {
    "name": "ipython",
    "version": 3
   },
   "file_extension": ".py",
   "mimetype": "text/x-python",
   "name": "python",
   "nbconvert_exporter": "python",
   "pygments_lexer": "ipython3",
   "version": "3.8.10"
  }
 },
 "nbformat": 4,
 "nbformat_minor": 5
}
